{
 "cells": [
  {
   "cell_type": "code",
   "execution_count": 211,
   "metadata": {},
   "outputs": [],
   "source": [
    "#Question 1 \n",
    "#In this question, we are going to create a sankey diagram with multiple levels. \n",
    "#We will combine the multilevel dataset with the kirby21 dataset (subjectData) to plot the diagram\n",
    "#The data and code sources come from class lectures with the Bloomberg School of Public Health at JHU\n",
    "import pandas as pd\n",
    "import numpy as np\n",
    "import plotly.graph_objects as go\n",
    "from plotly.offline import plot "
   ]
  },
  {
   "cell_type": "code",
   "execution_count": 212,
   "metadata": {},
   "outputs": [
    {
     "name": "stderr",
     "output_type": "stream",
     "text": [
      "/var/folders/pl/kgrsfjf50jd0lbps2dk3v47h0000gn/T/ipykernel_96994/3413702257.py:33: FutureWarning:\n",
      "\n",
      "The default value of numeric_only in DataFrameGroupBy.sum is deprecated. In a future version, numeric_only will default to False. Either specify numeric_only or select only columns which should be valid for the function.\n",
      "\n",
      "/var/folders/pl/kgrsfjf50jd0lbps2dk3v47h0000gn/T/ipykernel_96994/3413702257.py:37: FutureWarning:\n",
      "\n",
      "The default value of numeric_only in DataFrameGroupBy.sum is deprecated. In a future version, numeric_only will default to False. Either specify numeric_only or select only columns which should be valid for the function.\n",
      "\n"
     ]
    },
    {
     "data": {
      "text/html": [
       "<div>\n",
       "<style scoped>\n",
       "    .dataframe tbody tr th:only-of-type {\n",
       "        vertical-align: middle;\n",
       "    }\n",
       "\n",
       "    .dataframe tbody tr th {\n",
       "        vertical-align: top;\n",
       "    }\n",
       "\n",
       "    .dataframe thead th {\n",
       "        text-align: right;\n",
       "    }\n",
       "</style>\n",
       "<table border=\"1\" class=\"dataframe\">\n",
       "  <thead>\n",
       "    <tr style=\"text-align: right;\">\n",
       "      <th></th>\n",
       "      <th>source</th>\n",
       "      <th>target</th>\n",
       "      <th>comp</th>\n",
       "      <th>target_ind</th>\n",
       "      <th>source_ind</th>\n",
       "    </tr>\n",
       "  </thead>\n",
       "  <tbody>\n",
       "    <tr>\n",
       "      <th>0</th>\n",
       "      <td>ICV</td>\n",
       "      <td>CSF</td>\n",
       "      <td>0.079417</td>\n",
       "      <td>8</td>\n",
       "      <td>0</td>\n",
       "    </tr>\n",
       "    <tr>\n",
       "      <th>1</th>\n",
       "      <td>ICV</td>\n",
       "      <td>Diencephalon_L</td>\n",
       "      <td>0.008548</td>\n",
       "      <td>3</td>\n",
       "      <td>0</td>\n",
       "    </tr>\n",
       "    <tr>\n",
       "      <th>2</th>\n",
       "      <td>ICV</td>\n",
       "      <td>Diencephalon_R</td>\n",
       "      <td>0.008362</td>\n",
       "      <td>4</td>\n",
       "      <td>0</td>\n",
       "    </tr>\n",
       "    <tr>\n",
       "      <th>3</th>\n",
       "      <td>ICV</td>\n",
       "      <td>Mesencephalon</td>\n",
       "      <td>0.007430</td>\n",
       "      <td>5</td>\n",
       "      <td>0</td>\n",
       "    </tr>\n",
       "    <tr>\n",
       "      <th>4</th>\n",
       "      <td>ICV</td>\n",
       "      <td>Metencephalon</td>\n",
       "      <td>0.115313</td>\n",
       "      <td>6</td>\n",
       "      <td>0</td>\n",
       "    </tr>\n",
       "    <tr>\n",
       "      <th>5</th>\n",
       "      <td>ICV</td>\n",
       "      <td>Myelencephalon</td>\n",
       "      <td>0.003599</td>\n",
       "      <td>7</td>\n",
       "      <td>0</td>\n",
       "    </tr>\n",
       "    <tr>\n",
       "      <th>6</th>\n",
       "      <td>ICV</td>\n",
       "      <td>Telencephalon_L</td>\n",
       "      <td>0.384220</td>\n",
       "      <td>1</td>\n",
       "      <td>0</td>\n",
       "    </tr>\n",
       "    <tr>\n",
       "      <th>7</th>\n",
       "      <td>ICV</td>\n",
       "      <td>Telencephalon_R</td>\n",
       "      <td>0.393111</td>\n",
       "      <td>2</td>\n",
       "      <td>0</td>\n",
       "    </tr>\n",
       "    <tr>\n",
       "      <th>0</th>\n",
       "      <td>CSF</td>\n",
       "      <td>Sulcus_L</td>\n",
       "      <td>0.024577</td>\n",
       "      <td>26</td>\n",
       "      <td>8</td>\n",
       "    </tr>\n",
       "    <tr>\n",
       "      <th>1</th>\n",
       "      <td>CSF</td>\n",
       "      <td>Sulcus_R</td>\n",
       "      <td>0.021714</td>\n",
       "      <td>27</td>\n",
       "      <td>8</td>\n",
       "    </tr>\n",
       "    <tr>\n",
       "      <th>2</th>\n",
       "      <td>CSF</td>\n",
       "      <td>Ventricle</td>\n",
       "      <td>0.033126</td>\n",
       "      <td>25</td>\n",
       "      <td>8</td>\n",
       "    </tr>\n",
       "    <tr>\n",
       "      <th>3</th>\n",
       "      <td>Diencephalon_L</td>\n",
       "      <td>BasalForebrain_L</td>\n",
       "      <td>0.003960</td>\n",
       "      <td>15</td>\n",
       "      <td>3</td>\n",
       "    </tr>\n",
       "    <tr>\n",
       "      <th>4</th>\n",
       "      <td>Diencephalon_L</td>\n",
       "      <td>Thalamus_L</td>\n",
       "      <td>0.004588</td>\n",
       "      <td>13</td>\n",
       "      <td>3</td>\n",
       "    </tr>\n",
       "    <tr>\n",
       "      <th>5</th>\n",
       "      <td>Diencephalon_R</td>\n",
       "      <td>BasalForebrain_R</td>\n",
       "      <td>0.003753</td>\n",
       "      <td>16</td>\n",
       "      <td>4</td>\n",
       "    </tr>\n",
       "    <tr>\n",
       "      <th>6</th>\n",
       "      <td>Diencephalon_R</td>\n",
       "      <td>Thalamus_R</td>\n",
       "      <td>0.004609</td>\n",
       "      <td>14</td>\n",
       "      <td>4</td>\n",
       "    </tr>\n",
       "    <tr>\n",
       "      <th>7</th>\n",
       "      <td>Mesencephalon</td>\n",
       "      <td>Mesencephalon_L</td>\n",
       "      <td>0.003577</td>\n",
       "      <td>17</td>\n",
       "      <td>5</td>\n",
       "    </tr>\n",
       "    <tr>\n",
       "      <th>8</th>\n",
       "      <td>Mesencephalon</td>\n",
       "      <td>Mesencephalon_R</td>\n",
       "      <td>0.003853</td>\n",
       "      <td>18</td>\n",
       "      <td>5</td>\n",
       "    </tr>\n",
       "    <tr>\n",
       "      <th>9</th>\n",
       "      <td>Metencephalon</td>\n",
       "      <td>Metencephalon_L</td>\n",
       "      <td>0.057506</td>\n",
       "      <td>20</td>\n",
       "      <td>6</td>\n",
       "    </tr>\n",
       "    <tr>\n",
       "      <th>10</th>\n",
       "      <td>Metencephalon</td>\n",
       "      <td>Metencephalon_R</td>\n",
       "      <td>0.057807</td>\n",
       "      <td>19</td>\n",
       "      <td>6</td>\n",
       "    </tr>\n",
       "    <tr>\n",
       "      <th>11</th>\n",
       "      <td>Myelencephalon</td>\n",
       "      <td>Myelencephalon_L</td>\n",
       "      <td>0.001738</td>\n",
       "      <td>21</td>\n",
       "      <td>7</td>\n",
       "    </tr>\n",
       "    <tr>\n",
       "      <th>12</th>\n",
       "      <td>Myelencephalon</td>\n",
       "      <td>Myelencephalon_R</td>\n",
       "      <td>0.001861</td>\n",
       "      <td>22</td>\n",
       "      <td>7</td>\n",
       "    </tr>\n",
       "    <tr>\n",
       "      <th>13</th>\n",
       "      <td>Telencephalon_L</td>\n",
       "      <td>CerebralCortex_L</td>\n",
       "      <td>0.200361</td>\n",
       "      <td>9</td>\n",
       "      <td>1</td>\n",
       "    </tr>\n",
       "    <tr>\n",
       "      <th>14</th>\n",
       "      <td>Telencephalon_L</td>\n",
       "      <td>CerebralNucli_L</td>\n",
       "      <td>0.008956</td>\n",
       "      <td>11</td>\n",
       "      <td>1</td>\n",
       "    </tr>\n",
       "    <tr>\n",
       "      <th>15</th>\n",
       "      <td>Telencephalon_L</td>\n",
       "      <td>WhiteMatter_L</td>\n",
       "      <td>0.174904</td>\n",
       "      <td>23</td>\n",
       "      <td>1</td>\n",
       "    </tr>\n",
       "    <tr>\n",
       "      <th>16</th>\n",
       "      <td>Telencephalon_R</td>\n",
       "      <td>CerebralCortex_R</td>\n",
       "      <td>0.204623</td>\n",
       "      <td>10</td>\n",
       "      <td>2</td>\n",
       "    </tr>\n",
       "    <tr>\n",
       "      <th>17</th>\n",
       "      <td>Telencephalon_R</td>\n",
       "      <td>CerebralNucli_R</td>\n",
       "      <td>0.009460</td>\n",
       "      <td>12</td>\n",
       "      <td>2</td>\n",
       "    </tr>\n",
       "    <tr>\n",
       "      <th>18</th>\n",
       "      <td>Telencephalon_R</td>\n",
       "      <td>WhiteMatter_R</td>\n",
       "      <td>0.179029</td>\n",
       "      <td>24</td>\n",
       "      <td>2</td>\n",
       "    </tr>\n",
       "  </tbody>\n",
       "</table>\n",
       "</div>"
      ],
      "text/plain": [
       "             source            target      comp  target_ind  source_ind\n",
       "0               ICV               CSF  0.079417           8           0\n",
       "1               ICV    Diencephalon_L  0.008548           3           0\n",
       "2               ICV    Diencephalon_R  0.008362           4           0\n",
       "3               ICV     Mesencephalon  0.007430           5           0\n",
       "4               ICV     Metencephalon  0.115313           6           0\n",
       "5               ICV    Myelencephalon  0.003599           7           0\n",
       "6               ICV   Telencephalon_L  0.384220           1           0\n",
       "7               ICV   Telencephalon_R  0.393111           2           0\n",
       "0               CSF          Sulcus_L  0.024577          26           8\n",
       "1               CSF          Sulcus_R  0.021714          27           8\n",
       "2               CSF         Ventricle  0.033126          25           8\n",
       "3    Diencephalon_L  BasalForebrain_L  0.003960          15           3\n",
       "4    Diencephalon_L        Thalamus_L  0.004588          13           3\n",
       "5    Diencephalon_R  BasalForebrain_R  0.003753          16           4\n",
       "6    Diencephalon_R        Thalamus_R  0.004609          14           4\n",
       "7     Mesencephalon   Mesencephalon_L  0.003577          17           5\n",
       "8     Mesencephalon   Mesencephalon_R  0.003853          18           5\n",
       "9     Metencephalon   Metencephalon_L  0.057506          20           6\n",
       "10    Metencephalon   Metencephalon_R  0.057807          19           6\n",
       "11   Myelencephalon  Myelencephalon_L  0.001738          21           7\n",
       "12   Myelencephalon  Myelencephalon_R  0.001861          22           7\n",
       "13  Telencephalon_L  CerebralCortex_L  0.200361           9           1\n",
       "14  Telencephalon_L   CerebralNucli_L  0.008956          11           1\n",
       "15  Telencephalon_L     WhiteMatter_L  0.174904          23           1\n",
       "16  Telencephalon_R  CerebralCortex_R  0.204623          10           2\n",
       "17  Telencephalon_R   CerebralNucli_R  0.009460          12           2\n",
       "18  Telencephalon_R     WhiteMatter_R  0.179029          24           2"
      ]
     },
     "execution_count": 212,
     "metadata": {},
     "output_type": "execute_result"
    }
   ],
   "source": [
    "# Read in the data\n",
    "url = \"https://raw.githubusercontent.com/bcaffo/MRIcloudT1volumetrics/master/inst/extdata/multilevel_lookup_table.txt\"\n",
    "dat = pd.read_csv(url, sep=\"\\t\").drop(['Level5'], axis=1)\n",
    "dat = dat.rename(columns={\n",
    "    \"modify\": \"roi\",\n",
    "    \"modify.1\": \"level4\",\n",
    "    \"modify.2\": \"level3\",\n",
    "    \"modify.3\": \"level2\",\n",
    "    \"modify.4\": \"level1\"})\n",
    "dat = dat[['roi', 'level4', 'level3', 'level2', 'level1']]\n",
    "dat['level2'] = dat['level2'].str.strip()\n",
    "\n",
    "# Select the id variable as 127\n",
    "id = 127\n",
    "\n",
    "# Read in the subject data\n",
    "subjectData = pd.read_csv(\"https://raw.githubusercontent.com/smart-stats/ds4bio_book/main/book/assetts/kirby21AllLevels.csv\").drop(['Unnamed: 0'], axis = 1)\n",
    "\n",
    "# Make lists for roi \n",
    "roi = subjectData.loc[(subjectData.id == id) & (subjectData.type == 1), 'roi'].tolist()\n",
    "roi = ['ICV'] + roi\n",
    "\n",
    "# Extract data with type 1 and level 5 and id. Extract columns of roi and volume\n",
    "subjectData = subjectData.loc[(subjectData.type == 1) & (subjectData.level == 5) & (subjectData.id == id), ['roi', 'volume']]\n",
    "\n",
    "# Combine two datasets by roi and assign new values \n",
    "subjectData = pd.merge(subjectData, dat, on=\"roi\")\n",
    "subjectData['licv'] = \"ICV\"\n",
    "subjectData['comp'] = subjectData['volume'] / np.sum(subjectData['volume'])\n",
    "\n",
    "# Data preparation for the diagram\n",
    "# from icv level to Level 1\n",
    "lv1 = subjectData.groupby(['licv', 'level1']).sum().reset_index()\n",
    "lv1 = lv1.rename(columns={'level1': 'target', 'licv': 'source'}).drop(['volume'], axis=1)\n",
    "\n",
    "# from Level 1 to Level 2\n",
    "lv2 = subjectData.groupby(['level1', 'level2']).sum().reset_index()\n",
    "lv2 = lv2.rename(columns={'level2': 'target', 'level1': 'source'}).drop(['volume'], axis=1)\n",
    "\n",
    "# link the datasets created from last step\n",
    "dig_pan = pd.concat([lv1, lv2])\n",
    "\n",
    "# Replace the names with a list of integers \n",
    "dig_pan['target_ind'] = [roi.index(x) for x in dig_pan['target']]\n",
    "dig_pan['source_ind'] = [roi.index(x) for x in dig_pan['source']]\n",
    "\n",
    "dig_pan"
   ]
  },
  {
   "cell_type": "code",
   "execution_count": 215,
   "metadata": {},
   "outputs": [
    {
     "data": {
      "application/vnd.plotly.v1+json": {
       "config": {
        "plotlyServerURL": "https://plot.ly"
       },
       "data": [
        {
         "link": {
          "source": [
           7,
           7,
           7,
           6,
           6,
           2,
           2,
           5,
           5,
           5,
           5,
           5,
           5,
           5,
           5,
           3,
           3,
           1,
           1,
           0,
           0,
           4,
           4,
           4,
           8,
           8,
           8
          ],
          "target": [
           13,
           10,
           18,
           23,
           21,
           17,
           19,
           7,
           6,
           2,
           3,
           1,
           0,
           4,
           8,
           16,
           11,
           14,
           15,
           12,
           26,
           25,
           24,
           20,
           22,
           27,
           9
          ],
          "value": [
           0.02457650291011836,
           0.021714126986193755,
           0.03312601543093334,
           0.003960451903838058,
           0.004587613876555427,
           0.0037528446533537617,
           0.0046093149828778275,
           0.07941664532724545,
           0.008548065780393485,
           0.00836215963623159,
           0.007429735434579121,
           0.11531316866533857,
           0.003598766798464719,
           0.38422025754872985,
           0.39311120080901724,
           0.0035770656921423187,
           0.0038526697424368025,
           0.057506485013939346,
           0.05780668365139922,
           0.0017382586164242653,
           0.0018605081820404538,
           0.20036052771303614,
           0.00895604657925461,
           0.17490368325643907,
           0.20462262499475556,
           0.009459512245934297,
           0.17902906356832737
          ]
         },
         "node": {
          "color": [
           "green",
           "green",
           "green",
           "green",
           "green",
           "green",
           "green",
           "green",
           "green",
           "purple",
           "purple",
           "purple",
           "purple",
           "purple",
           "purple",
           "purple",
           "purple",
           "purple",
           "purple",
           "purple",
           "purple",
           "purple",
           "purple",
           "purple",
           "purple",
           "purple",
           "purple",
           "purple",
           "purple",
           "purple",
           "purple",
           "purple",
           "purple",
           "purple",
           "purple",
           "purple"
          ],
          "label": [
           "Myelencephalon",
           "Metencephalon",
           "Diencephalon_R",
           "Mesencephalon",
           "Telencephalon_L",
           "ICV",
           "Diencephalon_L",
           "CSF",
           "Telencephalon_R",
           "WhiteMatter_R",
           "Sulcus_R",
           "Mesencephalon_R",
           "Myelencephalon_L",
           "Sulcus_L",
           "Metencephalon_L",
           "Metencephalon_R",
           "Mesencephalon_L",
           "BasalForebrain_R",
           "Ventricle",
           "Thalamus_R",
           "WhiteMatter_L",
           "Thalamus_L",
           "CerebralCortex_R",
           "BasalForebrain_L",
           "CerebralNucli_L",
           "CerebralCortex_L",
           "Myelencephalon_R",
           "CerebralNucli_R"
          ],
          "line": {
           "color": "lightblue",
           "width": 0.2
          },
          "pad": 20,
          "thickness": 30
         },
         "type": "sankey"
        }
       ],
       "layout": {
        "font": {
         "size": 12
        },
        "template": {
         "data": {
          "bar": [
           {
            "error_x": {
             "color": "#2a3f5f"
            },
            "error_y": {
             "color": "#2a3f5f"
            },
            "marker": {
             "line": {
              "color": "#E5ECF6",
              "width": 0.5
             },
             "pattern": {
              "fillmode": "overlay",
              "size": 10,
              "solidity": 0.2
             }
            },
            "type": "bar"
           }
          ],
          "barpolar": [
           {
            "marker": {
             "line": {
              "color": "#E5ECF6",
              "width": 0.5
             },
             "pattern": {
              "fillmode": "overlay",
              "size": 10,
              "solidity": 0.2
             }
            },
            "type": "barpolar"
           }
          ],
          "carpet": [
           {
            "aaxis": {
             "endlinecolor": "#2a3f5f",
             "gridcolor": "white",
             "linecolor": "white",
             "minorgridcolor": "white",
             "startlinecolor": "#2a3f5f"
            },
            "baxis": {
             "endlinecolor": "#2a3f5f",
             "gridcolor": "white",
             "linecolor": "white",
             "minorgridcolor": "white",
             "startlinecolor": "#2a3f5f"
            },
            "type": "carpet"
           }
          ],
          "choropleth": [
           {
            "colorbar": {
             "outlinewidth": 0,
             "ticks": ""
            },
            "type": "choropleth"
           }
          ],
          "contour": [
           {
            "colorbar": {
             "outlinewidth": 0,
             "ticks": ""
            },
            "colorscale": [
             [
              0,
              "#0d0887"
             ],
             [
              0.1111111111111111,
              "#46039f"
             ],
             [
              0.2222222222222222,
              "#7201a8"
             ],
             [
              0.3333333333333333,
              "#9c179e"
             ],
             [
              0.4444444444444444,
              "#bd3786"
             ],
             [
              0.5555555555555556,
              "#d8576b"
             ],
             [
              0.6666666666666666,
              "#ed7953"
             ],
             [
              0.7777777777777778,
              "#fb9f3a"
             ],
             [
              0.8888888888888888,
              "#fdca26"
             ],
             [
              1,
              "#f0f921"
             ]
            ],
            "type": "contour"
           }
          ],
          "contourcarpet": [
           {
            "colorbar": {
             "outlinewidth": 0,
             "ticks": ""
            },
            "type": "contourcarpet"
           }
          ],
          "heatmap": [
           {
            "colorbar": {
             "outlinewidth": 0,
             "ticks": ""
            },
            "colorscale": [
             [
              0,
              "#0d0887"
             ],
             [
              0.1111111111111111,
              "#46039f"
             ],
             [
              0.2222222222222222,
              "#7201a8"
             ],
             [
              0.3333333333333333,
              "#9c179e"
             ],
             [
              0.4444444444444444,
              "#bd3786"
             ],
             [
              0.5555555555555556,
              "#d8576b"
             ],
             [
              0.6666666666666666,
              "#ed7953"
             ],
             [
              0.7777777777777778,
              "#fb9f3a"
             ],
             [
              0.8888888888888888,
              "#fdca26"
             ],
             [
              1,
              "#f0f921"
             ]
            ],
            "type": "heatmap"
           }
          ],
          "heatmapgl": [
           {
            "colorbar": {
             "outlinewidth": 0,
             "ticks": ""
            },
            "colorscale": [
             [
              0,
              "#0d0887"
             ],
             [
              0.1111111111111111,
              "#46039f"
             ],
             [
              0.2222222222222222,
              "#7201a8"
             ],
             [
              0.3333333333333333,
              "#9c179e"
             ],
             [
              0.4444444444444444,
              "#bd3786"
             ],
             [
              0.5555555555555556,
              "#d8576b"
             ],
             [
              0.6666666666666666,
              "#ed7953"
             ],
             [
              0.7777777777777778,
              "#fb9f3a"
             ],
             [
              0.8888888888888888,
              "#fdca26"
             ],
             [
              1,
              "#f0f921"
             ]
            ],
            "type": "heatmapgl"
           }
          ],
          "histogram": [
           {
            "marker": {
             "pattern": {
              "fillmode": "overlay",
              "size": 10,
              "solidity": 0.2
             }
            },
            "type": "histogram"
           }
          ],
          "histogram2d": [
           {
            "colorbar": {
             "outlinewidth": 0,
             "ticks": ""
            },
            "colorscale": [
             [
              0,
              "#0d0887"
             ],
             [
              0.1111111111111111,
              "#46039f"
             ],
             [
              0.2222222222222222,
              "#7201a8"
             ],
             [
              0.3333333333333333,
              "#9c179e"
             ],
             [
              0.4444444444444444,
              "#bd3786"
             ],
             [
              0.5555555555555556,
              "#d8576b"
             ],
             [
              0.6666666666666666,
              "#ed7953"
             ],
             [
              0.7777777777777778,
              "#fb9f3a"
             ],
             [
              0.8888888888888888,
              "#fdca26"
             ],
             [
              1,
              "#f0f921"
             ]
            ],
            "type": "histogram2d"
           }
          ],
          "histogram2dcontour": [
           {
            "colorbar": {
             "outlinewidth": 0,
             "ticks": ""
            },
            "colorscale": [
             [
              0,
              "#0d0887"
             ],
             [
              0.1111111111111111,
              "#46039f"
             ],
             [
              0.2222222222222222,
              "#7201a8"
             ],
             [
              0.3333333333333333,
              "#9c179e"
             ],
             [
              0.4444444444444444,
              "#bd3786"
             ],
             [
              0.5555555555555556,
              "#d8576b"
             ],
             [
              0.6666666666666666,
              "#ed7953"
             ],
             [
              0.7777777777777778,
              "#fb9f3a"
             ],
             [
              0.8888888888888888,
              "#fdca26"
             ],
             [
              1,
              "#f0f921"
             ]
            ],
            "type": "histogram2dcontour"
           }
          ],
          "mesh3d": [
           {
            "colorbar": {
             "outlinewidth": 0,
             "ticks": ""
            },
            "type": "mesh3d"
           }
          ],
          "parcoords": [
           {
            "line": {
             "colorbar": {
              "outlinewidth": 0,
              "ticks": ""
             }
            },
            "type": "parcoords"
           }
          ],
          "pie": [
           {
            "automargin": true,
            "type": "pie"
           }
          ],
          "scatter": [
           {
            "fillpattern": {
             "fillmode": "overlay",
             "size": 10,
             "solidity": 0.2
            },
            "type": "scatter"
           }
          ],
          "scatter3d": [
           {
            "line": {
             "colorbar": {
              "outlinewidth": 0,
              "ticks": ""
             }
            },
            "marker": {
             "colorbar": {
              "outlinewidth": 0,
              "ticks": ""
             }
            },
            "type": "scatter3d"
           }
          ],
          "scattercarpet": [
           {
            "marker": {
             "colorbar": {
              "outlinewidth": 0,
              "ticks": ""
             }
            },
            "type": "scattercarpet"
           }
          ],
          "scattergeo": [
           {
            "marker": {
             "colorbar": {
              "outlinewidth": 0,
              "ticks": ""
             }
            },
            "type": "scattergeo"
           }
          ],
          "scattergl": [
           {
            "marker": {
             "colorbar": {
              "outlinewidth": 0,
              "ticks": ""
             }
            },
            "type": "scattergl"
           }
          ],
          "scattermapbox": [
           {
            "marker": {
             "colorbar": {
              "outlinewidth": 0,
              "ticks": ""
             }
            },
            "type": "scattermapbox"
           }
          ],
          "scatterpolar": [
           {
            "marker": {
             "colorbar": {
              "outlinewidth": 0,
              "ticks": ""
             }
            },
            "type": "scatterpolar"
           }
          ],
          "scatterpolargl": [
           {
            "marker": {
             "colorbar": {
              "outlinewidth": 0,
              "ticks": ""
             }
            },
            "type": "scatterpolargl"
           }
          ],
          "scatterternary": [
           {
            "marker": {
             "colorbar": {
              "outlinewidth": 0,
              "ticks": ""
             }
            },
            "type": "scatterternary"
           }
          ],
          "surface": [
           {
            "colorbar": {
             "outlinewidth": 0,
             "ticks": ""
            },
            "colorscale": [
             [
              0,
              "#0d0887"
             ],
             [
              0.1111111111111111,
              "#46039f"
             ],
             [
              0.2222222222222222,
              "#7201a8"
             ],
             [
              0.3333333333333333,
              "#9c179e"
             ],
             [
              0.4444444444444444,
              "#bd3786"
             ],
             [
              0.5555555555555556,
              "#d8576b"
             ],
             [
              0.6666666666666666,
              "#ed7953"
             ],
             [
              0.7777777777777778,
              "#fb9f3a"
             ],
             [
              0.8888888888888888,
              "#fdca26"
             ],
             [
              1,
              "#f0f921"
             ]
            ],
            "type": "surface"
           }
          ],
          "table": [
           {
            "cells": {
             "fill": {
              "color": "#EBF0F8"
             },
             "line": {
              "color": "white"
             }
            },
            "header": {
             "fill": {
              "color": "#C8D4E3"
             },
             "line": {
              "color": "white"
             }
            },
            "type": "table"
           }
          ]
         },
         "layout": {
          "annotationdefaults": {
           "arrowcolor": "#2a3f5f",
           "arrowhead": 0,
           "arrowwidth": 1
          },
          "autotypenumbers": "strict",
          "coloraxis": {
           "colorbar": {
            "outlinewidth": 0,
            "ticks": ""
           }
          },
          "colorscale": {
           "diverging": [
            [
             0,
             "#8e0152"
            ],
            [
             0.1,
             "#c51b7d"
            ],
            [
             0.2,
             "#de77ae"
            ],
            [
             0.3,
             "#f1b6da"
            ],
            [
             0.4,
             "#fde0ef"
            ],
            [
             0.5,
             "#f7f7f7"
            ],
            [
             0.6,
             "#e6f5d0"
            ],
            [
             0.7,
             "#b8e186"
            ],
            [
             0.8,
             "#7fbc41"
            ],
            [
             0.9,
             "#4d9221"
            ],
            [
             1,
             "#276419"
            ]
           ],
           "sequential": [
            [
             0,
             "#0d0887"
            ],
            [
             0.1111111111111111,
             "#46039f"
            ],
            [
             0.2222222222222222,
             "#7201a8"
            ],
            [
             0.3333333333333333,
             "#9c179e"
            ],
            [
             0.4444444444444444,
             "#bd3786"
            ],
            [
             0.5555555555555556,
             "#d8576b"
            ],
            [
             0.6666666666666666,
             "#ed7953"
            ],
            [
             0.7777777777777778,
             "#fb9f3a"
            ],
            [
             0.8888888888888888,
             "#fdca26"
            ],
            [
             1,
             "#f0f921"
            ]
           ],
           "sequentialminus": [
            [
             0,
             "#0d0887"
            ],
            [
             0.1111111111111111,
             "#46039f"
            ],
            [
             0.2222222222222222,
             "#7201a8"
            ],
            [
             0.3333333333333333,
             "#9c179e"
            ],
            [
             0.4444444444444444,
             "#bd3786"
            ],
            [
             0.5555555555555556,
             "#d8576b"
            ],
            [
             0.6666666666666666,
             "#ed7953"
            ],
            [
             0.7777777777777778,
             "#fb9f3a"
            ],
            [
             0.8888888888888888,
             "#fdca26"
            ],
            [
             1,
             "#f0f921"
            ]
           ]
          },
          "colorway": [
           "#636efa",
           "#EF553B",
           "#00cc96",
           "#ab63fa",
           "#FFA15A",
           "#19d3f3",
           "#FF6692",
           "#B6E880",
           "#FF97FF",
           "#FECB52"
          ],
          "font": {
           "color": "#2a3f5f"
          },
          "geo": {
           "bgcolor": "white",
           "lakecolor": "white",
           "landcolor": "#E5ECF6",
           "showlakes": true,
           "showland": true,
           "subunitcolor": "white"
          },
          "hoverlabel": {
           "align": "left"
          },
          "hovermode": "closest",
          "mapbox": {
           "style": "light"
          },
          "paper_bgcolor": "white",
          "plot_bgcolor": "#E5ECF6",
          "polar": {
           "angularaxis": {
            "gridcolor": "white",
            "linecolor": "white",
            "ticks": ""
           },
           "bgcolor": "#E5ECF6",
           "radialaxis": {
            "gridcolor": "white",
            "linecolor": "white",
            "ticks": ""
           }
          },
          "scene": {
           "xaxis": {
            "backgroundcolor": "#E5ECF6",
            "gridcolor": "white",
            "gridwidth": 2,
            "linecolor": "white",
            "showbackground": true,
            "ticks": "",
            "zerolinecolor": "white"
           },
           "yaxis": {
            "backgroundcolor": "#E5ECF6",
            "gridcolor": "white",
            "gridwidth": 2,
            "linecolor": "white",
            "showbackground": true,
            "ticks": "",
            "zerolinecolor": "white"
           },
           "zaxis": {
            "backgroundcolor": "#E5ECF6",
            "gridcolor": "white",
            "gridwidth": 2,
            "linecolor": "white",
            "showbackground": true,
            "ticks": "",
            "zerolinecolor": "white"
           }
          },
          "shapedefaults": {
           "line": {
            "color": "#2a3f5f"
           }
          },
          "ternary": {
           "aaxis": {
            "gridcolor": "white",
            "linecolor": "white",
            "ticks": ""
           },
           "baxis": {
            "gridcolor": "white",
            "linecolor": "white",
            "ticks": ""
           },
           "bgcolor": "#E5ECF6",
           "caxis": {
            "gridcolor": "white",
            "linecolor": "white",
            "ticks": ""
           }
          },
          "title": {
           "x": 0.05
          },
          "xaxis": {
           "automargin": true,
           "gridcolor": "white",
           "linecolor": "white",
           "ticks": "",
           "title": {
            "standoff": 15
           },
           "zerolinecolor": "white",
           "zerolinewidth": 2
          },
          "yaxis": {
           "automargin": true,
           "gridcolor": "white",
           "linecolor": "white",
           "ticks": "",
           "title": {
            "standoff": 15
           },
           "zerolinecolor": "white",
           "zerolinewidth": 2
          }
         }
        },
        "title": {
         "text": "Sankey diagram"
        }
       }
      }
     },
     "metadata": {},
     "output_type": "display_data"
    }
   ],
   "source": [
    "def genSankey(dig_pan,dcols=[],vcols='',title='Sankey Plot in Python'):\n",
    "    label = []\n",
    "    color = [\"green\",\"purple\"]\n",
    "    cols = []\n",
    "    for i in dcols:\n",
    "        label0 =  list(set(dig_pan[i].values))\n",
    "        cols.append(len(label0))\n",
    "        label = label + label0\n",
    "        \n",
    "    #Define the unique label variable   \n",
    "    label = list(dict.fromkeys(label))\n",
    "\n",
    "    #Define the color variable\n",
    "    colorsnum = []\n",
    "    for ind, coln in enumerate(cols):\n",
    "        colorsnum = colorsnum + [color[ind]]*coln\n",
    "        \n",
    "    #Define the pairs of source & target\n",
    "    for a in range(len(dcols)-1):\n",
    "        if a==0:\n",
    "            sourcetar = dig_pan[[dcols[a],dcols[a+1],vcols]]\n",
    "            sourcetar.columns = ['source','target','value_num']\n",
    "        else:\n",
    "            tdat = dig_pan[[dcols[a],dcols[a+1],vcols]]\n",
    "            tdat.columns = ['source','target','value_num']\n",
    "            sourcetar = pd.concat([sourcetar,tdat])\n",
    "        sourcetar = sourcetar.groupby(['source','target']).agg({'value_num':'sum'}).reset_index()\n",
    "        \n",
    "    #Define index for the source and target\n",
    "    sourcetar['sourceind'] = sourcetar['source'].apply(lambda x: label.index(x))\n",
    "    sourcetar['targetind'] = sourcetar['target'].apply(lambda x: label.index(x))\n",
    "    \n",
    "    # creating the sankey diagram\n",
    "    figdf = dict(type='sankey', node = dict(pad = 20, thickness = 30,line = dict(width = 0.2,color = \"lightblue\"),\n",
    "                                            label = label, color = colorsnum),link = dict(\n",
    "        source = sourcetar['sourceind'],\n",
    "        target = sourcetar['targetind'],\n",
    "        value = sourcetar['value_num']))\n",
    "    layout =  dict(title = \"Sankey diagram\",font = dict(size = 12))\n",
    "    fig = dict(data=[figdf], layout=layout)\n",
    "    return fig\n",
    "\n",
    "#Display the figure \n",
    "fdat = genSankey(dig_pan, dcols=['source','target'],vcols='comp')\n",
    "fig = go.Figure(fdat)\n",
    "fig.show()\n",
    "#save this file as a standalong html file:\n",
    "#fig.show(renderer=\"iframe\")\n",
    "fig.write_html(\"Sankey_diagram.html\")"
   ]
  },
  {
   "attachments": {},
   "cell_type": "markdown",
   "metadata": {},
   "source": [
    "#Question 2: Create a simple webpage containing this graphic and host it on github pages. Since the file is too large, we could not show the interactive graph in python. Instead, I uploaded the file into the repository"
   ]
  },
  {
   "attachments": {},
   "cell_type": "markdown",
   "metadata": {},
   "source": [
    "https://github.com/hliu154/dshw2.io/blob/main/Sankey_diagram.html\n",
    "png form: https://github.com/hliu154/dshw2.io/blob/main/sankey.png"
   ]
  },
  {
   "attachments": {},
   "cell_type": "markdown",
   "metadata": {},
   "source": [
    "#Question 3: Create the opioid sqlite database from https://smart-stats.github.io/ds4bio_book/book/_build/html/sqlite.html. However, only go to the step where the csv files are read into the database. Then exit sqlite and you should have a file opioid.db that has the data. Next, read the three tables into pandas dataframes and do the data wrangling from the sqlite chapter directly in pandas. Add the python code to your hw4.ipynb file."
   ]
  },
  {
   "cell_type": "code",
   "execution_count": 311,
   "metadata": {},
   "outputs": [],
   "source": [
    "import pandas as pd\n",
    "import numpy as np\n",
    "import sqlite3 as sq3\n",
    "import plotly.express as px\n",
    "import plotly.graph_objects as go"
   ]
  },
  {
   "cell_type": "code",
   "execution_count": 312,
   "metadata": {},
   "outputs": [
    {
     "name": "stdout",
     "output_type": "stream",
     "text": [
      "56531\n",
      "55517\n",
      "6397\n"
     ]
    }
   ],
   "source": [
    "# creating file path\n",
    "dbfile = '/Users/masonliu/Desktop/opioid.db'\n",
    "# Create a SQL connection to our SQLite database\n",
    "con = sq3.connect(dbfile)\n",
    "#Check on 3 variables in the table\n",
    "population = pd.read_sql_query(\"SELECT * from population\", con)\n",
    "annual = pd.read_sql_query(\"SELECT * from annual\", con)\n",
    "land = pd.read_sql_query(\"SELECT * from land\", con)\n",
    "print(population.shape[0]) #Population has 56531 rows of data\n",
    "print(annual.shape[0]) #Annual has 55517 rows of data\n",
    "print(land.shape[0]) #Land has 6397 rows of data"
   ]
  },
  {
   "cell_type": "code",
   "execution_count": 313,
   "metadata": {},
   "outputs": [
    {
     "data": {
      "text/html": [
       "<div>\n",
       "<style scoped>\n",
       "    .dataframe tbody tr th:only-of-type {\n",
       "        vertical-align: middle;\n",
       "    }\n",
       "\n",
       "    .dataframe tbody tr th {\n",
       "        vertical-align: top;\n",
       "    }\n",
       "\n",
       "    .dataframe thead th {\n",
       "        text-align: right;\n",
       "    }\n",
       "</style>\n",
       "<table border=\"1\" class=\"dataframe\">\n",
       "  <thead>\n",
       "    <tr style=\"text-align: right;\">\n",
       "      <th></th>\n",
       "      <th></th>\n",
       "      <th>BUYER_COUNTY</th>\n",
       "      <th>BUYER_STATE</th>\n",
       "      <th>countyfips</th>\n",
       "      <th>STATE</th>\n",
       "      <th>COUNTY</th>\n",
       "      <th>county_name</th>\n",
       "      <th>NAME</th>\n",
       "      <th>variable</th>\n",
       "      <th>year</th>\n",
       "      <th>population</th>\n",
       "    </tr>\n",
       "  </thead>\n",
       "  <tbody>\n",
       "    <tr>\n",
       "      <th>0</th>\n",
       "      <td>1</td>\n",
       "      <td>AUTAUGA</td>\n",
       "      <td>AL</td>\n",
       "      <td>01001</td>\n",
       "      <td>1</td>\n",
       "      <td>1</td>\n",
       "      <td>Autauga</td>\n",
       "      <td>Autauga County, Alabama</td>\n",
       "      <td>B01003_001</td>\n",
       "      <td>2006</td>\n",
       "      <td>51328</td>\n",
       "    </tr>\n",
       "    <tr>\n",
       "      <th>1</th>\n",
       "      <td>2</td>\n",
       "      <td>BALDWIN</td>\n",
       "      <td>AL</td>\n",
       "      <td>01003</td>\n",
       "      <td>1</td>\n",
       "      <td>3</td>\n",
       "      <td>Baldwin</td>\n",
       "      <td>Baldwin County, Alabama</td>\n",
       "      <td>B01003_001</td>\n",
       "      <td>2006</td>\n",
       "      <td>168121</td>\n",
       "    </tr>\n",
       "    <tr>\n",
       "      <th>2</th>\n",
       "      <td>3</td>\n",
       "      <td>BARBOUR</td>\n",
       "      <td>AL</td>\n",
       "      <td>01005</td>\n",
       "      <td>1</td>\n",
       "      <td>5</td>\n",
       "      <td>Barbour</td>\n",
       "      <td>Barbour County, Alabama</td>\n",
       "      <td>B01003_001</td>\n",
       "      <td>2006</td>\n",
       "      <td>27861</td>\n",
       "    </tr>\n",
       "    <tr>\n",
       "      <th>3</th>\n",
       "      <td>4</td>\n",
       "      <td>BIBB</td>\n",
       "      <td>AL</td>\n",
       "      <td>01007</td>\n",
       "      <td>1</td>\n",
       "      <td>7</td>\n",
       "      <td>Bibb</td>\n",
       "      <td>Bibb County, Alabama</td>\n",
       "      <td>B01003_001</td>\n",
       "      <td>2006</td>\n",
       "      <td>22099</td>\n",
       "    </tr>\n",
       "    <tr>\n",
       "      <th>4</th>\n",
       "      <td>5</td>\n",
       "      <td>BLOUNT</td>\n",
       "      <td>AL</td>\n",
       "      <td>01009</td>\n",
       "      <td>1</td>\n",
       "      <td>9</td>\n",
       "      <td>Blount</td>\n",
       "      <td>Blount County, Alabama</td>\n",
       "      <td>B01003_001</td>\n",
       "      <td>2006</td>\n",
       "      <td>55485</td>\n",
       "    </tr>\n",
       "    <tr>\n",
       "      <th>...</th>\n",
       "      <td>...</td>\n",
       "      <td>...</td>\n",
       "      <td>...</td>\n",
       "      <td>...</td>\n",
       "      <td>...</td>\n",
       "      <td>...</td>\n",
       "      <td>...</td>\n",
       "      <td>...</td>\n",
       "      <td>...</td>\n",
       "      <td>...</td>\n",
       "      <td>...</td>\n",
       "    </tr>\n",
       "    <tr>\n",
       "      <th>56526</th>\n",
       "      <td>28261</td>\n",
       "      <td>WASHAKIE</td>\n",
       "      <td>WY</td>\n",
       "      <td>56043</td>\n",
       "      <td>56</td>\n",
       "      <td>43</td>\n",
       "      <td>Washakie</td>\n",
       "      <td>Washakie County, Wyoming</td>\n",
       "      <td>B01003_001</td>\n",
       "      <td>2014</td>\n",
       "      <td>8444</td>\n",
       "    </tr>\n",
       "    <tr>\n",
       "      <th>56527</th>\n",
       "      <td>28262</td>\n",
       "      <td>WESTON</td>\n",
       "      <td>WY</td>\n",
       "      <td>56045</td>\n",
       "      <td>56</td>\n",
       "      <td>45</td>\n",
       "      <td>Weston</td>\n",
       "      <td>Weston County, Wyoming</td>\n",
       "      <td>B01003_001</td>\n",
       "      <td>2014</td>\n",
       "      <td>7135</td>\n",
       "    </tr>\n",
       "    <tr>\n",
       "      <th>56528</th>\n",
       "      <td>28263</td>\n",
       "      <td>SKAGWAY</td>\n",
       "      <td>AK</td>\n",
       "      <td>02230</td>\n",
       "      <td>2</td>\n",
       "      <td>230</td>\n",
       "      <td>Skagway</td>\n",
       "      <td>Skagway Municipality, Alaska</td>\n",
       "      <td>B01003_001</td>\n",
       "      <td>2014</td>\n",
       "      <td>996</td>\n",
       "    </tr>\n",
       "    <tr>\n",
       "      <th>56529</th>\n",
       "      <td>28264</td>\n",
       "      <td>HOONAH ANGOON</td>\n",
       "      <td>AK</td>\n",
       "      <td>02105</td>\n",
       "      <td>2</td>\n",
       "      <td>105</td>\n",
       "      <td>Hoonah Angoon</td>\n",
       "      <td>Hoonah-Angoon Census Area, Alaska</td>\n",
       "      <td>B01003_001</td>\n",
       "      <td>2014</td>\n",
       "      <td>2126</td>\n",
       "    </tr>\n",
       "    <tr>\n",
       "      <th>56530</th>\n",
       "      <td>28265</td>\n",
       "      <td>PETERSBURG</td>\n",
       "      <td>AK</td>\n",
       "      <td>02195</td>\n",
       "      <td>2</td>\n",
       "      <td>195</td>\n",
       "      <td>Petersburg</td>\n",
       "      <td>Petersburg Borough, Alaska</td>\n",
       "      <td>B01003_001</td>\n",
       "      <td>2014</td>\n",
       "      <td>3212</td>\n",
       "    </tr>\n",
       "  </tbody>\n",
       "</table>\n",
       "<p>56531 rows × 11 columns</p>\n",
       "</div>"
      ],
      "text/plain": [
       "               BUYER_COUNTY BUYER_STATE countyfips STATE COUNTY  \\\n",
       "0          1        AUTAUGA          AL      01001     1      1   \n",
       "1          2        BALDWIN          AL      01003     1      3   \n",
       "2          3        BARBOUR          AL      01005     1      5   \n",
       "3          4           BIBB          AL      01007     1      7   \n",
       "4          5         BLOUNT          AL      01009     1      9   \n",
       "...      ...            ...         ...        ...   ...    ...   \n",
       "56526  28261       WASHAKIE          WY      56043    56     43   \n",
       "56527  28262         WESTON          WY      56045    56     45   \n",
       "56528  28263        SKAGWAY          AK      02230     2    230   \n",
       "56529  28264  HOONAH ANGOON          AK      02105     2    105   \n",
       "56530  28265     PETERSBURG          AK      02195     2    195   \n",
       "\n",
       "         county_name                               NAME    variable  year  \\\n",
       "0            Autauga            Autauga County, Alabama  B01003_001  2006   \n",
       "1            Baldwin            Baldwin County, Alabama  B01003_001  2006   \n",
       "2            Barbour            Barbour County, Alabama  B01003_001  2006   \n",
       "3               Bibb               Bibb County, Alabama  B01003_001  2006   \n",
       "4             Blount             Blount County, Alabama  B01003_001  2006   \n",
       "...              ...                                ...         ...   ...   \n",
       "56526       Washakie           Washakie County, Wyoming  B01003_001  2014   \n",
       "56527         Weston             Weston County, Wyoming  B01003_001  2014   \n",
       "56528        Skagway       Skagway Municipality, Alaska  B01003_001  2014   \n",
       "56529  Hoonah Angoon  Hoonah-Angoon Census Area, Alaska  B01003_001  2014   \n",
       "56530     Petersburg         Petersburg Borough, Alaska  B01003_001  2014   \n",
       "\n",
       "      population  \n",
       "0          51328  \n",
       "1         168121  \n",
       "2          27861  \n",
       "3          22099  \n",
       "4          55485  \n",
       "...          ...  \n",
       "56526       8444  \n",
       "56527       7135  \n",
       "56528        996  \n",
       "56529       2126  \n",
       "56530       3212  \n",
       "\n",
       "[56531 rows x 11 columns]"
      ]
     },
     "execution_count": 313,
     "metadata": {},
     "output_type": "execute_result"
    }
   ],
   "source": [
    "population "
   ]
  },
  {
   "cell_type": "code",
   "execution_count": 314,
   "metadata": {},
   "outputs": [
    {
     "data": {
      "text/html": [
       "<div>\n",
       "<style scoped>\n",
       "    .dataframe tbody tr th:only-of-type {\n",
       "        vertical-align: middle;\n",
       "    }\n",
       "\n",
       "    .dataframe tbody tr th {\n",
       "        vertical-align: top;\n",
       "    }\n",
       "\n",
       "    .dataframe thead th {\n",
       "        text-align: right;\n",
       "    }\n",
       "</style>\n",
       "<table border=\"1\" class=\"dataframe\">\n",
       "  <thead>\n",
       "    <tr style=\"text-align: right;\">\n",
       "      <th></th>\n",
       "      <th></th>\n",
       "      <th>Areaname</th>\n",
       "      <th>STCOU</th>\n",
       "      <th>LND010190F</th>\n",
       "      <th>LND010190D</th>\n",
       "      <th>LND010190N1</th>\n",
       "      <th>LND010190N2</th>\n",
       "      <th>LND010200F</th>\n",
       "      <th>LND010200D</th>\n",
       "      <th>LND010200N1</th>\n",
       "      <th>...</th>\n",
       "      <th>LND110210N1</th>\n",
       "      <th>LND110210N2</th>\n",
       "      <th>LND210190F</th>\n",
       "      <th>LND210190D</th>\n",
       "      <th>LND210190N1</th>\n",
       "      <th>LND210190N2</th>\n",
       "      <th>LND210200F</th>\n",
       "      <th>LND210200D</th>\n",
       "      <th>LND210200N1</th>\n",
       "      <th>LND210200N2</th>\n",
       "    </tr>\n",
       "  </thead>\n",
       "  <tbody>\n",
       "    <tr>\n",
       "      <th>0</th>\n",
       "      <td>1</td>\n",
       "      <td>UNITED STATES</td>\n",
       "      <td>00000</td>\n",
       "      <td>0</td>\n",
       "      <td>3787425.08</td>\n",
       "      <td>0000</td>\n",
       "      <td>0000</td>\n",
       "      <td>0</td>\n",
       "      <td>3794083.06</td>\n",
       "      <td>0000</td>\n",
       "      <td>...</td>\n",
       "      <td>0000</td>\n",
       "      <td>0000</td>\n",
       "      <td>0</td>\n",
       "      <td>251083.35</td>\n",
       "      <td>0000</td>\n",
       "      <td>0000</td>\n",
       "      <td>0</td>\n",
       "      <td>256644.62</td>\n",
       "      <td>0000</td>\n",
       "      <td>0000</td>\n",
       "    </tr>\n",
       "    <tr>\n",
       "      <th>1</th>\n",
       "      <td>2</td>\n",
       "      <td>ALABAMA</td>\n",
       "      <td>01000</td>\n",
       "      <td>0</td>\n",
       "      <td>52422.94</td>\n",
       "      <td>0000</td>\n",
       "      <td>0000</td>\n",
       "      <td>0</td>\n",
       "      <td>52419.02</td>\n",
       "      <td>0000</td>\n",
       "      <td>...</td>\n",
       "      <td>0000</td>\n",
       "      <td>0000</td>\n",
       "      <td>0</td>\n",
       "      <td>1672.71</td>\n",
       "      <td>0000</td>\n",
       "      <td>0000</td>\n",
       "      <td>0</td>\n",
       "      <td>1675.01</td>\n",
       "      <td>0000</td>\n",
       "      <td>0000</td>\n",
       "    </tr>\n",
       "    <tr>\n",
       "      <th>2</th>\n",
       "      <td>3</td>\n",
       "      <td>Autauga, AL</td>\n",
       "      <td>01001</td>\n",
       "      <td>0</td>\n",
       "      <td>604.49</td>\n",
       "      <td>0000</td>\n",
       "      <td>0000</td>\n",
       "      <td>0</td>\n",
       "      <td>604.45</td>\n",
       "      <td>0000</td>\n",
       "      <td>...</td>\n",
       "      <td>0000</td>\n",
       "      <td>0000</td>\n",
       "      <td>0</td>\n",
       "      <td>8.48</td>\n",
       "      <td>0000</td>\n",
       "      <td>0000</td>\n",
       "      <td>0</td>\n",
       "      <td>8.48</td>\n",
       "      <td>0000</td>\n",
       "      <td>0000</td>\n",
       "    </tr>\n",
       "    <tr>\n",
       "      <th>3</th>\n",
       "      <td>4</td>\n",
       "      <td>Baldwin, AL</td>\n",
       "      <td>01003</td>\n",
       "      <td>0</td>\n",
       "      <td>2027.08</td>\n",
       "      <td>0000</td>\n",
       "      <td>0000</td>\n",
       "      <td>0</td>\n",
       "      <td>2026.93</td>\n",
       "      <td>0000</td>\n",
       "      <td>...</td>\n",
       "      <td>0000</td>\n",
       "      <td>0000</td>\n",
       "      <td>0</td>\n",
       "      <td>430.55</td>\n",
       "      <td>0000</td>\n",
       "      <td>0000</td>\n",
       "      <td>0</td>\n",
       "      <td>430.58</td>\n",
       "      <td>0000</td>\n",
       "      <td>0000</td>\n",
       "    </tr>\n",
       "    <tr>\n",
       "      <th>4</th>\n",
       "      <td>5</td>\n",
       "      <td>Barbour, AL</td>\n",
       "      <td>01005</td>\n",
       "      <td>0</td>\n",
       "      <td>904.59</td>\n",
       "      <td>0000</td>\n",
       "      <td>0000</td>\n",
       "      <td>0</td>\n",
       "      <td>904.52</td>\n",
       "      <td>0000</td>\n",
       "      <td>...</td>\n",
       "      <td>0000</td>\n",
       "      <td>0000</td>\n",
       "      <td>0</td>\n",
       "      <td>19.59</td>\n",
       "      <td>0000</td>\n",
       "      <td>0000</td>\n",
       "      <td>0</td>\n",
       "      <td>19.61</td>\n",
       "      <td>0000</td>\n",
       "      <td>0000</td>\n",
       "    </tr>\n",
       "    <tr>\n",
       "      <th>...</th>\n",
       "      <td>...</td>\n",
       "      <td>...</td>\n",
       "      <td>...</td>\n",
       "      <td>...</td>\n",
       "      <td>...</td>\n",
       "      <td>...</td>\n",
       "      <td>...</td>\n",
       "      <td>...</td>\n",
       "      <td>...</td>\n",
       "      <td>...</td>\n",
       "      <td>...</td>\n",
       "      <td>...</td>\n",
       "      <td>...</td>\n",
       "      <td>...</td>\n",
       "      <td>...</td>\n",
       "      <td>...</td>\n",
       "      <td>...</td>\n",
       "      <td>...</td>\n",
       "      <td>...</td>\n",
       "      <td>...</td>\n",
       "      <td>...</td>\n",
       "    </tr>\n",
       "    <tr>\n",
       "      <th>6392</th>\n",
       "      <td>3194</td>\n",
       "      <td>Sweetwater, WY</td>\n",
       "      <td>56037</td>\n",
       "      <td>0</td>\n",
       "      <td>10491.73</td>\n",
       "      <td>0000</td>\n",
       "      <td>0000</td>\n",
       "      <td>0</td>\n",
       "      <td>10491.17</td>\n",
       "      <td>0000</td>\n",
       "      <td>...</td>\n",
       "      <td>0000</td>\n",
       "      <td>0000</td>\n",
       "      <td>0</td>\n",
       "      <td>65.86</td>\n",
       "      <td>0000</td>\n",
       "      <td>0000</td>\n",
       "      <td>0</td>\n",
       "      <td>65.87</td>\n",
       "      <td>0000</td>\n",
       "      <td>0000</td>\n",
       "    </tr>\n",
       "    <tr>\n",
       "      <th>6393</th>\n",
       "      <td>3195</td>\n",
       "      <td>Teton, WY</td>\n",
       "      <td>56039</td>\n",
       "      <td>0</td>\n",
       "      <td>4221.96</td>\n",
       "      <td>0000</td>\n",
       "      <td>0000</td>\n",
       "      <td>0</td>\n",
       "      <td>4221.8</td>\n",
       "      <td>0000</td>\n",
       "      <td>...</td>\n",
       "      <td>0000</td>\n",
       "      <td>0000</td>\n",
       "      <td>0</td>\n",
       "      <td>214.02</td>\n",
       "      <td>0000</td>\n",
       "      <td>0000</td>\n",
       "      <td>0</td>\n",
       "      <td>214.04</td>\n",
       "      <td>0000</td>\n",
       "      <td>0000</td>\n",
       "    </tr>\n",
       "    <tr>\n",
       "      <th>6394</th>\n",
       "      <td>3196</td>\n",
       "      <td>Uinta, WY</td>\n",
       "      <td>56041</td>\n",
       "      <td>0</td>\n",
       "      <td>2087.66</td>\n",
       "      <td>0000</td>\n",
       "      <td>0000</td>\n",
       "      <td>0</td>\n",
       "      <td>2087.56</td>\n",
       "      <td>0000</td>\n",
       "      <td>...</td>\n",
       "      <td>0000</td>\n",
       "      <td>0000</td>\n",
       "      <td>0</td>\n",
       "      <td>5.91</td>\n",
       "      <td>0000</td>\n",
       "      <td>0000</td>\n",
       "      <td>0</td>\n",
       "      <td>5.9</td>\n",
       "      <td>0000</td>\n",
       "      <td>0000</td>\n",
       "    </tr>\n",
       "    <tr>\n",
       "      <th>6395</th>\n",
       "      <td>3197</td>\n",
       "      <td>Washakie, WY</td>\n",
       "      <td>56043</td>\n",
       "      <td>0</td>\n",
       "      <td>2242.85</td>\n",
       "      <td>0000</td>\n",
       "      <td>0000</td>\n",
       "      <td>0</td>\n",
       "      <td>2242.75</td>\n",
       "      <td>0000</td>\n",
       "      <td>...</td>\n",
       "      <td>0000</td>\n",
       "      <td>0000</td>\n",
       "      <td>0</td>\n",
       "      <td>2.69</td>\n",
       "      <td>0000</td>\n",
       "      <td>0000</td>\n",
       "      <td>0</td>\n",
       "      <td>2.69</td>\n",
       "      <td>0000</td>\n",
       "      <td>0000</td>\n",
       "    </tr>\n",
       "    <tr>\n",
       "      <th>6396</th>\n",
       "      <td>3198</td>\n",
       "      <td>Weston, WY</td>\n",
       "      <td>56045</td>\n",
       "      <td>0</td>\n",
       "      <td>2400.13</td>\n",
       "      <td>0000</td>\n",
       "      <td>0000</td>\n",
       "      <td>0</td>\n",
       "      <td>2400.07</td>\n",
       "      <td>0000</td>\n",
       "      <td>...</td>\n",
       "      <td>0000</td>\n",
       "      <td>0000</td>\n",
       "      <td>0</td>\n",
       "      <td>2.21</td>\n",
       "      <td>0000</td>\n",
       "      <td>0000</td>\n",
       "      <td>0</td>\n",
       "      <td>2.21</td>\n",
       "      <td>0000</td>\n",
       "      <td>0000</td>\n",
       "    </tr>\n",
       "  </tbody>\n",
       "</table>\n",
       "<p>6397 rows × 35 columns</p>\n",
       "</div>"
      ],
      "text/plain": [
       "                  Areaname  STCOU LND010190F  LND010190D LND010190N1  \\\n",
       "0        1   UNITED STATES  00000          0  3787425.08        0000   \n",
       "1        2         ALABAMA  01000          0    52422.94        0000   \n",
       "2        3     Autauga, AL  01001          0      604.49        0000   \n",
       "3        4     Baldwin, AL  01003          0     2027.08        0000   \n",
       "4        5     Barbour, AL  01005          0      904.59        0000   \n",
       "...    ...             ...    ...        ...         ...         ...   \n",
       "6392  3194  Sweetwater, WY  56037          0    10491.73        0000   \n",
       "6393  3195       Teton, WY  56039          0     4221.96        0000   \n",
       "6394  3196       Uinta, WY  56041          0     2087.66        0000   \n",
       "6395  3197    Washakie, WY  56043          0     2242.85        0000   \n",
       "6396  3198      Weston, WY  56045          0     2400.13        0000   \n",
       "\n",
       "     LND010190N2 LND010200F  LND010200D LND010200N1  ... LND110210N1  \\\n",
       "0           0000          0  3794083.06        0000  ...        0000   \n",
       "1           0000          0    52419.02        0000  ...        0000   \n",
       "2           0000          0      604.45        0000  ...        0000   \n",
       "3           0000          0     2026.93        0000  ...        0000   \n",
       "4           0000          0      904.52        0000  ...        0000   \n",
       "...          ...        ...         ...         ...  ...         ...   \n",
       "6392        0000          0    10491.17        0000  ...        0000   \n",
       "6393        0000          0      4221.8        0000  ...        0000   \n",
       "6394        0000          0     2087.56        0000  ...        0000   \n",
       "6395        0000          0     2242.75        0000  ...        0000   \n",
       "6396        0000          0     2400.07        0000  ...        0000   \n",
       "\n",
       "     LND110210N2 LND210190F LND210190D LND210190N1 LND210190N2 LND210200F  \\\n",
       "0           0000          0  251083.35        0000        0000          0   \n",
       "1           0000          0    1672.71        0000        0000          0   \n",
       "2           0000          0       8.48        0000        0000          0   \n",
       "3           0000          0     430.55        0000        0000          0   \n",
       "4           0000          0      19.59        0000        0000          0   \n",
       "...          ...        ...        ...         ...         ...        ...   \n",
       "6392        0000          0      65.86        0000        0000          0   \n",
       "6393        0000          0     214.02        0000        0000          0   \n",
       "6394        0000          0       5.91        0000        0000          0   \n",
       "6395        0000          0       2.69        0000        0000          0   \n",
       "6396        0000          0       2.21        0000        0000          0   \n",
       "\n",
       "     LND210200D LND210200N1 LND210200N2  \n",
       "0     256644.62        0000        0000  \n",
       "1       1675.01        0000        0000  \n",
       "2          8.48        0000        0000  \n",
       "3        430.58        0000        0000  \n",
       "4         19.61        0000        0000  \n",
       "...         ...         ...         ...  \n",
       "6392      65.87        0000        0000  \n",
       "6393     214.04        0000        0000  \n",
       "6394        5.9        0000        0000  \n",
       "6395       2.69        0000        0000  \n",
       "6396       2.21        0000        0000  \n",
       "\n",
       "[6397 rows x 35 columns]"
      ]
     },
     "execution_count": 314,
     "metadata": {},
     "output_type": "execute_result"
    }
   ],
   "source": [
    "land"
   ]
  },
  {
   "cell_type": "code",
   "execution_count": 315,
   "metadata": {},
   "outputs": [
    {
     "data": {
      "text/html": [
       "<div>\n",
       "<style scoped>\n",
       "    .dataframe tbody tr th:only-of-type {\n",
       "        vertical-align: middle;\n",
       "    }\n",
       "\n",
       "    .dataframe tbody tr th {\n",
       "        vertical-align: top;\n",
       "    }\n",
       "\n",
       "    .dataframe thead th {\n",
       "        text-align: right;\n",
       "    }\n",
       "</style>\n",
       "<table border=\"1\" class=\"dataframe\">\n",
       "  <thead>\n",
       "    <tr style=\"text-align: right;\">\n",
       "      <th></th>\n",
       "      <th></th>\n",
       "      <th>BUYER_COUNTY</th>\n",
       "      <th>BUYER_STATE</th>\n",
       "      <th>year</th>\n",
       "      <th>count</th>\n",
       "      <th>DOSAGE_UNIT</th>\n",
       "      <th>countyfips</th>\n",
       "    </tr>\n",
       "  </thead>\n",
       "  <tbody>\n",
       "    <tr>\n",
       "      <th>0</th>\n",
       "      <td>1</td>\n",
       "      <td>ABBEVILLE</td>\n",
       "      <td>SC</td>\n",
       "      <td>2006</td>\n",
       "      <td>877</td>\n",
       "      <td>363620</td>\n",
       "      <td>45001</td>\n",
       "    </tr>\n",
       "    <tr>\n",
       "      <th>1</th>\n",
       "      <td>2</td>\n",
       "      <td>ABBEVILLE</td>\n",
       "      <td>SC</td>\n",
       "      <td>2007</td>\n",
       "      <td>908</td>\n",
       "      <td>402940</td>\n",
       "      <td>45001</td>\n",
       "    </tr>\n",
       "    <tr>\n",
       "      <th>2</th>\n",
       "      <td>3</td>\n",
       "      <td>ABBEVILLE</td>\n",
       "      <td>SC</td>\n",
       "      <td>2008</td>\n",
       "      <td>871</td>\n",
       "      <td>424590</td>\n",
       "      <td>45001</td>\n",
       "    </tr>\n",
       "    <tr>\n",
       "      <th>3</th>\n",
       "      <td>4</td>\n",
       "      <td>ABBEVILLE</td>\n",
       "      <td>SC</td>\n",
       "      <td>2009</td>\n",
       "      <td>930</td>\n",
       "      <td>467230</td>\n",
       "      <td>45001</td>\n",
       "    </tr>\n",
       "    <tr>\n",
       "      <th>4</th>\n",
       "      <td>5</td>\n",
       "      <td>ABBEVILLE</td>\n",
       "      <td>SC</td>\n",
       "      <td>2010</td>\n",
       "      <td>1197</td>\n",
       "      <td>539280</td>\n",
       "      <td>45001</td>\n",
       "    </tr>\n",
       "    <tr>\n",
       "      <th>...</th>\n",
       "      <td>...</td>\n",
       "      <td>...</td>\n",
       "      <td>...</td>\n",
       "      <td>...</td>\n",
       "      <td>...</td>\n",
       "      <td>...</td>\n",
       "      <td>...</td>\n",
       "    </tr>\n",
       "    <tr>\n",
       "      <th>55512</th>\n",
       "      <td>27754</td>\n",
       "      <td>NA</td>\n",
       "      <td>NV</td>\n",
       "      <td>2007</td>\n",
       "      <td>447</td>\n",
       "      <td>200600</td>\n",
       "      <td>NA</td>\n",
       "    </tr>\n",
       "    <tr>\n",
       "      <th>55513</th>\n",
       "      <td>27755</td>\n",
       "      <td>NA</td>\n",
       "      <td>NV</td>\n",
       "      <td>2008</td>\n",
       "      <td>5</td>\n",
       "      <td>2200</td>\n",
       "      <td>NA</td>\n",
       "    </tr>\n",
       "    <tr>\n",
       "      <th>55514</th>\n",
       "      <td>27756</td>\n",
       "      <td>NA</td>\n",
       "      <td>OH</td>\n",
       "      <td>2006</td>\n",
       "      <td>23</td>\n",
       "      <td>5100</td>\n",
       "      <td>NA</td>\n",
       "    </tr>\n",
       "    <tr>\n",
       "      <th>55515</th>\n",
       "      <td>27757</td>\n",
       "      <td>NA</td>\n",
       "      <td>PR</td>\n",
       "      <td>2006</td>\n",
       "      <td>10</td>\n",
       "      <td>17800</td>\n",
       "      <td>NA</td>\n",
       "    </tr>\n",
       "    <tr>\n",
       "      <th>55516</th>\n",
       "      <td>27758</td>\n",
       "      <td>NA</td>\n",
       "      <td>PR</td>\n",
       "      <td>2007</td>\n",
       "      <td>2</td>\n",
       "      <td>1300</td>\n",
       "      <td>NA</td>\n",
       "    </tr>\n",
       "  </tbody>\n",
       "</table>\n",
       "<p>55517 rows × 7 columns</p>\n",
       "</div>"
      ],
      "text/plain": [
       "             BUYER_COUNTY BUYER_STATE  year count DOSAGE_UNIT countyfips\n",
       "0          1    ABBEVILLE          SC  2006   877      363620      45001\n",
       "1          2    ABBEVILLE          SC  2007   908      402940      45001\n",
       "2          3    ABBEVILLE          SC  2008   871      424590      45001\n",
       "3          4    ABBEVILLE          SC  2009   930      467230      45001\n",
       "4          5    ABBEVILLE          SC  2010  1197      539280      45001\n",
       "...      ...          ...         ...   ...   ...         ...        ...\n",
       "55512  27754           NA          NV  2007   447      200600         NA\n",
       "55513  27755           NA          NV  2008     5        2200         NA\n",
       "55514  27756           NA          OH  2006    23        5100         NA\n",
       "55515  27757           NA          PR  2006    10       17800         NA\n",
       "55516  27758           NA          PR  2007     2        1300         NA\n",
       "\n",
       "[55517 rows x 7 columns]"
      ]
     },
     "execution_count": 315,
     "metadata": {},
     "output_type": "execute_result"
    }
   ],
   "source": [
    "annual #We see that Annual has some NA values for Buyer_vounty and countyfips, so I will remove these Na in the next step"
   ]
  },
  {
   "cell_type": "code",
   "execution_count": 318,
   "metadata": {},
   "outputs": [
    {
     "data": {
      "text/html": [
       "<div>\n",
       "<style scoped>\n",
       "    .dataframe tbody tr th:only-of-type {\n",
       "        vertical-align: middle;\n",
       "    }\n",
       "\n",
       "    .dataframe tbody tr th {\n",
       "        vertical-align: top;\n",
       "    }\n",
       "\n",
       "    .dataframe thead th {\n",
       "        text-align: right;\n",
       "    }\n",
       "</style>\n",
       "<table border=\"1\" class=\"dataframe\">\n",
       "  <thead>\n",
       "    <tr style=\"text-align: right;\">\n",
       "      <th></th>\n",
       "      <th></th>\n",
       "      <th>BUYER_COUNTY</th>\n",
       "      <th>BUYER_STATE</th>\n",
       "      <th>year</th>\n",
       "      <th>count</th>\n",
       "      <th>DOSAGE_UNIT</th>\n",
       "      <th>countyfips</th>\n",
       "    </tr>\n",
       "  </thead>\n",
       "  <tbody>\n",
       "    <tr>\n",
       "      <th>0</th>\n",
       "      <td>1</td>\n",
       "      <td>ABBEVILLE</td>\n",
       "      <td>SC</td>\n",
       "      <td>2006</td>\n",
       "      <td>877</td>\n",
       "      <td>363620</td>\n",
       "      <td>45001</td>\n",
       "    </tr>\n",
       "    <tr>\n",
       "      <th>1</th>\n",
       "      <td>2</td>\n",
       "      <td>ABBEVILLE</td>\n",
       "      <td>SC</td>\n",
       "      <td>2007</td>\n",
       "      <td>908</td>\n",
       "      <td>402940</td>\n",
       "      <td>45001</td>\n",
       "    </tr>\n",
       "    <tr>\n",
       "      <th>2</th>\n",
       "      <td>3</td>\n",
       "      <td>ABBEVILLE</td>\n",
       "      <td>SC</td>\n",
       "      <td>2008</td>\n",
       "      <td>871</td>\n",
       "      <td>424590</td>\n",
       "      <td>45001</td>\n",
       "    </tr>\n",
       "    <tr>\n",
       "      <th>3</th>\n",
       "      <td>4</td>\n",
       "      <td>ABBEVILLE</td>\n",
       "      <td>SC</td>\n",
       "      <td>2009</td>\n",
       "      <td>930</td>\n",
       "      <td>467230</td>\n",
       "      <td>45001</td>\n",
       "    </tr>\n",
       "    <tr>\n",
       "      <th>4</th>\n",
       "      <td>5</td>\n",
       "      <td>ABBEVILLE</td>\n",
       "      <td>SC</td>\n",
       "      <td>2010</td>\n",
       "      <td>1197</td>\n",
       "      <td>539280</td>\n",
       "      <td>45001</td>\n",
       "    </tr>\n",
       "    <tr>\n",
       "      <th>...</th>\n",
       "      <td>...</td>\n",
       "      <td>...</td>\n",
       "      <td>...</td>\n",
       "      <td>...</td>\n",
       "      <td>...</td>\n",
       "      <td>...</td>\n",
       "      <td>...</td>\n",
       "    </tr>\n",
       "    <tr>\n",
       "      <th>55495</th>\n",
       "      <td>27737</td>\n",
       "      <td>ZAVALA</td>\n",
       "      <td>TX</td>\n",
       "      <td>2010</td>\n",
       "      <td>248</td>\n",
       "      <td>200100</td>\n",
       "      <td>48507</td>\n",
       "    </tr>\n",
       "    <tr>\n",
       "      <th>55496</th>\n",
       "      <td>27738</td>\n",
       "      <td>ZAVALA</td>\n",
       "      <td>TX</td>\n",
       "      <td>2011</td>\n",
       "      <td>406</td>\n",
       "      <td>244800</td>\n",
       "      <td>48507</td>\n",
       "    </tr>\n",
       "    <tr>\n",
       "      <th>55497</th>\n",
       "      <td>27739</td>\n",
       "      <td>ZAVALA</td>\n",
       "      <td>TX</td>\n",
       "      <td>2012</td>\n",
       "      <td>473</td>\n",
       "      <td>263700</td>\n",
       "      <td>48507</td>\n",
       "    </tr>\n",
       "    <tr>\n",
       "      <th>55498</th>\n",
       "      <td>27740</td>\n",
       "      <td>ZAVALA</td>\n",
       "      <td>TX</td>\n",
       "      <td>2013</td>\n",
       "      <td>399</td>\n",
       "      <td>186700</td>\n",
       "      <td>48507</td>\n",
       "    </tr>\n",
       "    <tr>\n",
       "      <th>55499</th>\n",
       "      <td>27741</td>\n",
       "      <td>ZAVALA</td>\n",
       "      <td>TX</td>\n",
       "      <td>2014</td>\n",
       "      <td>162</td>\n",
       "      <td>148930</td>\n",
       "      <td>48507</td>\n",
       "    </tr>\n",
       "  </tbody>\n",
       "</table>\n",
       "<p>55483 rows × 7 columns</p>\n",
       "</div>"
      ],
      "text/plain": [
       "             BUYER_COUNTY BUYER_STATE  year count DOSAGE_UNIT countyfips\n",
       "0          1    ABBEVILLE          SC  2006   877      363620      45001\n",
       "1          2    ABBEVILLE          SC  2007   908      402940      45001\n",
       "2          3    ABBEVILLE          SC  2008   871      424590      45001\n",
       "3          4    ABBEVILLE          SC  2009   930      467230      45001\n",
       "4          5    ABBEVILLE          SC  2010  1197      539280      45001\n",
       "...      ...          ...         ...   ...   ...         ...        ...\n",
       "55495  27737       ZAVALA          TX  2010   248      200100      48507\n",
       "55496  27738       ZAVALA          TX  2011   406      244800      48507\n",
       "55497  27739       ZAVALA          TX  2012   473      263700      48507\n",
       "55498  27740       ZAVALA          TX  2013   399      186700      48507\n",
       "55499  27741       ZAVALA          TX  2014   162      148930      48507\n",
       "\n",
       "[55483 rows x 7 columns]"
      ]
     },
     "execution_count": 318,
     "metadata": {},
     "output_type": "execute_result"
    }
   ],
   "source": [
    "#Removing NAs in buyer_county variable \n",
    "annual.drop(annual[annual.BUYER_COUNTY == 'NA'].index, inplace =True)\n",
    "annual #Now we can see that the number of row of annual decreased from 55517 to 55483"
   ]
  },
  {
   "cell_type": "code",
   "execution_count": 319,
   "metadata": {},
   "outputs": [
    {
     "data": {
      "text/html": [
       "<div>\n",
       "<style scoped>\n",
       "    .dataframe tbody tr th:only-of-type {\n",
       "        vertical-align: middle;\n",
       "    }\n",
       "\n",
       "    .dataframe tbody tr th {\n",
       "        vertical-align: top;\n",
       "    }\n",
       "\n",
       "    .dataframe thead th {\n",
       "        text-align: right;\n",
       "    }\n",
       "</style>\n",
       "<table border=\"1\" class=\"dataframe\">\n",
       "  <thead>\n",
       "    <tr style=\"text-align: right;\">\n",
       "      <th></th>\n",
       "      <th>Areaname</th>\n",
       "      <th>countyfips</th>\n",
       "      <th>LND010190D</th>\n",
       "    </tr>\n",
       "  </thead>\n",
       "  <tbody>\n",
       "    <tr>\n",
       "      <th>0</th>\n",
       "      <td>UNITED STATES</td>\n",
       "      <td>00000</td>\n",
       "      <td>3787425.08</td>\n",
       "    </tr>\n",
       "    <tr>\n",
       "      <th>1</th>\n",
       "      <td>ALABAMA</td>\n",
       "      <td>01000</td>\n",
       "      <td>52422.94</td>\n",
       "    </tr>\n",
       "    <tr>\n",
       "      <th>2</th>\n",
       "      <td>Autauga, AL</td>\n",
       "      <td>01001</td>\n",
       "      <td>604.49</td>\n",
       "    </tr>\n",
       "    <tr>\n",
       "      <th>3</th>\n",
       "      <td>Baldwin, AL</td>\n",
       "      <td>01003</td>\n",
       "      <td>2027.08</td>\n",
       "    </tr>\n",
       "    <tr>\n",
       "      <th>4</th>\n",
       "      <td>Barbour, AL</td>\n",
       "      <td>01005</td>\n",
       "      <td>904.59</td>\n",
       "    </tr>\n",
       "  </tbody>\n",
       "</table>\n",
       "</div>"
      ],
      "text/plain": [
       "        Areaname countyfips  LND010190D\n",
       "0  UNITED STATES      00000  3787425.08\n",
       "1        ALABAMA      01000    52422.94\n",
       "2    Autauga, AL      01001      604.49\n",
       "3    Baldwin, AL      01003     2027.08\n",
       "4    Barbour, AL      01005      904.59"
      ]
     },
     "execution_count": 319,
     "metadata": {},
     "output_type": "execute_result"
    }
   ],
   "source": [
    "#Selecting variables of  Areaname, STCOU, LND010190D from land;\n",
    "Land_for_merge=land[['Areaname', 'STCOU', 'LND010190D']]\n",
    "#Changing the column name from STCOU to countyfips;\n",
    "Land_for_merge=Land_for_merge.rename(columns={'STCOU':'countyfips'})\n",
    "Land_for_merge.head()"
   ]
  },
  {
   "cell_type": "code",
   "execution_count": 320,
   "metadata": {},
   "outputs": [
    {
     "data": {
      "text/html": [
       "<div>\n",
       "<style scoped>\n",
       "    .dataframe tbody tr th:only-of-type {\n",
       "        vertical-align: middle;\n",
       "    }\n",
       "\n",
       "    .dataframe tbody tr th {\n",
       "        vertical-align: top;\n",
       "    }\n",
       "\n",
       "    .dataframe thead th {\n",
       "        text-align: right;\n",
       "    }\n",
       "</style>\n",
       "<table border=\"1\" class=\"dataframe\">\n",
       "  <thead>\n",
       "    <tr style=\"text-align: right;\">\n",
       "      <th></th>\n",
       "      <th></th>\n",
       "      <th>BUYER_COUNTY</th>\n",
       "      <th>BUYER_STATE</th>\n",
       "      <th>year</th>\n",
       "      <th>count</th>\n",
       "      <th>DOSAGE_UNIT</th>\n",
       "      <th>countyfips</th>\n",
       "      <th>Areaname</th>\n",
       "      <th>LND010190D</th>\n",
       "    </tr>\n",
       "  </thead>\n",
       "  <tbody>\n",
       "    <tr>\n",
       "      <th>0</th>\n",
       "      <td>1</td>\n",
       "      <td>ABBEVILLE</td>\n",
       "      <td>SC</td>\n",
       "      <td>2006</td>\n",
       "      <td>877</td>\n",
       "      <td>363620</td>\n",
       "      <td>45001</td>\n",
       "      <td>Abbeville, SC</td>\n",
       "      <td>511.1</td>\n",
       "    </tr>\n",
       "    <tr>\n",
       "      <th>1</th>\n",
       "      <td>1</td>\n",
       "      <td>ABBEVILLE</td>\n",
       "      <td>SC</td>\n",
       "      <td>2006</td>\n",
       "      <td>877</td>\n",
       "      <td>363620</td>\n",
       "      <td>45001</td>\n",
       "      <td>Abbeville, SC</td>\n",
       "      <td>511.1</td>\n",
       "    </tr>\n",
       "    <tr>\n",
       "      <th>2</th>\n",
       "      <td>2</td>\n",
       "      <td>ABBEVILLE</td>\n",
       "      <td>SC</td>\n",
       "      <td>2007</td>\n",
       "      <td>908</td>\n",
       "      <td>402940</td>\n",
       "      <td>45001</td>\n",
       "      <td>Abbeville, SC</td>\n",
       "      <td>511.1</td>\n",
       "    </tr>\n",
       "    <tr>\n",
       "      <th>3</th>\n",
       "      <td>2</td>\n",
       "      <td>ABBEVILLE</td>\n",
       "      <td>SC</td>\n",
       "      <td>2007</td>\n",
       "      <td>908</td>\n",
       "      <td>402940</td>\n",
       "      <td>45001</td>\n",
       "      <td>Abbeville, SC</td>\n",
       "      <td>511.1</td>\n",
       "    </tr>\n",
       "    <tr>\n",
       "      <th>4</th>\n",
       "      <td>3</td>\n",
       "      <td>ABBEVILLE</td>\n",
       "      <td>SC</td>\n",
       "      <td>2008</td>\n",
       "      <td>871</td>\n",
       "      <td>424590</td>\n",
       "      <td>45001</td>\n",
       "      <td>Abbeville, SC</td>\n",
       "      <td>511.1</td>\n",
       "    </tr>\n",
       "    <tr>\n",
       "      <th>...</th>\n",
       "      <td>...</td>\n",
       "      <td>...</td>\n",
       "      <td>...</td>\n",
       "      <td>...</td>\n",
       "      <td>...</td>\n",
       "      <td>...</td>\n",
       "      <td>...</td>\n",
       "      <td>...</td>\n",
       "      <td>...</td>\n",
       "    </tr>\n",
       "    <tr>\n",
       "      <th>109438</th>\n",
       "      <td>27739</td>\n",
       "      <td>ZAVALA</td>\n",
       "      <td>TX</td>\n",
       "      <td>2012</td>\n",
       "      <td>473</td>\n",
       "      <td>263700</td>\n",
       "      <td>48507</td>\n",
       "      <td>Zavala, TX</td>\n",
       "      <td>1301.82</td>\n",
       "    </tr>\n",
       "    <tr>\n",
       "      <th>109439</th>\n",
       "      <td>27740</td>\n",
       "      <td>ZAVALA</td>\n",
       "      <td>TX</td>\n",
       "      <td>2013</td>\n",
       "      <td>399</td>\n",
       "      <td>186700</td>\n",
       "      <td>48507</td>\n",
       "      <td>Zavala, TX</td>\n",
       "      <td>1301.82</td>\n",
       "    </tr>\n",
       "    <tr>\n",
       "      <th>109440</th>\n",
       "      <td>27740</td>\n",
       "      <td>ZAVALA</td>\n",
       "      <td>TX</td>\n",
       "      <td>2013</td>\n",
       "      <td>399</td>\n",
       "      <td>186700</td>\n",
       "      <td>48507</td>\n",
       "      <td>Zavala, TX</td>\n",
       "      <td>1301.82</td>\n",
       "    </tr>\n",
       "    <tr>\n",
       "      <th>109441</th>\n",
       "      <td>27741</td>\n",
       "      <td>ZAVALA</td>\n",
       "      <td>TX</td>\n",
       "      <td>2014</td>\n",
       "      <td>162</td>\n",
       "      <td>148930</td>\n",
       "      <td>48507</td>\n",
       "      <td>Zavala, TX</td>\n",
       "      <td>1301.82</td>\n",
       "    </tr>\n",
       "    <tr>\n",
       "      <th>109442</th>\n",
       "      <td>27741</td>\n",
       "      <td>ZAVALA</td>\n",
       "      <td>TX</td>\n",
       "      <td>2014</td>\n",
       "      <td>162</td>\n",
       "      <td>148930</td>\n",
       "      <td>48507</td>\n",
       "      <td>Zavala, TX</td>\n",
       "      <td>1301.82</td>\n",
       "    </tr>\n",
       "  </tbody>\n",
       "</table>\n",
       "<p>109443 rows × 9 columns</p>\n",
       "</div>"
      ],
      "text/plain": [
       "              BUYER_COUNTY BUYER_STATE  year count DOSAGE_UNIT countyfips  \\\n",
       "0           1    ABBEVILLE          SC  2006   877      363620      45001   \n",
       "1           1    ABBEVILLE          SC  2006   877      363620      45001   \n",
       "2           2    ABBEVILLE          SC  2007   908      402940      45001   \n",
       "3           2    ABBEVILLE          SC  2007   908      402940      45001   \n",
       "4           3    ABBEVILLE          SC  2008   871      424590      45001   \n",
       "...       ...          ...         ...   ...   ...         ...        ...   \n",
       "109438  27739       ZAVALA          TX  2012   473      263700      48507   \n",
       "109439  27740       ZAVALA          TX  2013   399      186700      48507   \n",
       "109440  27740       ZAVALA          TX  2013   399      186700      48507   \n",
       "109441  27741       ZAVALA          TX  2014   162      148930      48507   \n",
       "109442  27741       ZAVALA          TX  2014   162      148930      48507   \n",
       "\n",
       "             Areaname LND010190D  \n",
       "0       Abbeville, SC      511.1  \n",
       "1       Abbeville, SC      511.1  \n",
       "2       Abbeville, SC      511.1  \n",
       "3       Abbeville, SC      511.1  \n",
       "4       Abbeville, SC      511.1  \n",
       "...               ...        ...  \n",
       "109438     Zavala, TX    1301.82  \n",
       "109439     Zavala, TX    1301.82  \n",
       "109440     Zavala, TX    1301.82  \n",
       "109441     Zavala, TX    1301.82  \n",
       "109442     Zavala, TX    1301.82  \n",
       "\n",
       "[109443 rows x 9 columns]"
      ]
     },
     "execution_count": 320,
     "metadata": {},
     "output_type": "execute_result"
    }
   ],
   "source": [
    "#Merging the data from annual and land based on the common column of countyfips\n",
    "annual_land = pd.merge(annual, Land_for_merge, on = 'countyfips', how='left')\n",
    "annual_land"
   ]
  },
  {
   "attachments": {},
   "cell_type": "markdown",
   "metadata": {},
   "source": [
    "#Question 4: Create an interactive scatter plot of average number of opiod pills by year plot using plotly. See the example here. Don't do the intervals (little vertical lines), only the points. Add your plot to an html file with your repo for your Sanky diagram and host it publicly. Put a link to your hosted file in a markdown cell of your hw4.ipynb file. Note, an easy way to create a webpage with this graphic is to export an ipynb as an html file."
   ]
  },
  {
   "cell_type": "code",
   "execution_count": 332,
   "metadata": {},
   "outputs": [
    {
     "data": {
      "text/html": [
       "<div>\n",
       "<style scoped>\n",
       "    .dataframe tbody tr th:only-of-type {\n",
       "        vertical-align: middle;\n",
       "    }\n",
       "\n",
       "    .dataframe tbody tr th {\n",
       "        vertical-align: top;\n",
       "    }\n",
       "\n",
       "    .dataframe thead th {\n",
       "        text-align: right;\n",
       "    }\n",
       "</style>\n",
       "<table border=\"1\" class=\"dataframe\">\n",
       "  <thead>\n",
       "    <tr style=\"text-align: right;\">\n",
       "      <th></th>\n",
       "      <th>year</th>\n",
       "      <th>DOSAGE_UNIT</th>\n",
       "    </tr>\n",
       "  </thead>\n",
       "  <tbody>\n",
       "    <tr>\n",
       "      <th>0</th>\n",
       "      <td>2006</td>\n",
       "      <td>363620</td>\n",
       "    </tr>\n",
       "    <tr>\n",
       "      <th>1</th>\n",
       "      <td>2007</td>\n",
       "      <td>402940</td>\n",
       "    </tr>\n",
       "    <tr>\n",
       "      <th>2</th>\n",
       "      <td>2008</td>\n",
       "      <td>424590</td>\n",
       "    </tr>\n",
       "    <tr>\n",
       "      <th>3</th>\n",
       "      <td>2009</td>\n",
       "      <td>467230</td>\n",
       "    </tr>\n",
       "    <tr>\n",
       "      <th>4</th>\n",
       "      <td>2010</td>\n",
       "      <td>539280</td>\n",
       "    </tr>\n",
       "    <tr>\n",
       "      <th>...</th>\n",
       "      <td>...</td>\n",
       "      <td>...</td>\n",
       "    </tr>\n",
       "    <tr>\n",
       "      <th>55495</th>\n",
       "      <td>2010</td>\n",
       "      <td>200100</td>\n",
       "    </tr>\n",
       "    <tr>\n",
       "      <th>55496</th>\n",
       "      <td>2011</td>\n",
       "      <td>244800</td>\n",
       "    </tr>\n",
       "    <tr>\n",
       "      <th>55497</th>\n",
       "      <td>2012</td>\n",
       "      <td>263700</td>\n",
       "    </tr>\n",
       "    <tr>\n",
       "      <th>55498</th>\n",
       "      <td>2013</td>\n",
       "      <td>186700</td>\n",
       "    </tr>\n",
       "    <tr>\n",
       "      <th>55499</th>\n",
       "      <td>2014</td>\n",
       "      <td>148930</td>\n",
       "    </tr>\n",
       "  </tbody>\n",
       "</table>\n",
       "<p>55483 rows × 2 columns</p>\n",
       "</div>"
      ],
      "text/plain": [
       "       year DOSAGE_UNIT\n",
       "0      2006      363620\n",
       "1      2007      402940\n",
       "2      2008      424590\n",
       "3      2009      467230\n",
       "4      2010      539280\n",
       "...     ...         ...\n",
       "55495  2010      200100\n",
       "55496  2011      244800\n",
       "55497  2012      263700\n",
       "55498  2013      186700\n",
       "55499  2014      148930\n",
       "\n",
       "[55483 rows x 2 columns]"
      ]
     },
     "execution_count": 332,
     "metadata": {},
     "output_type": "execute_result"
    }
   ],
   "source": [
    "annual_plot = annual[['year', 'DOSAGE_UNIT']]\n",
    "annual_plot"
   ]
  },
  {
   "cell_type": "code",
   "execution_count": 338,
   "metadata": {},
   "outputs": [
    {
     "name": "stderr",
     "output_type": "stream",
     "text": [
      "/var/folders/pl/kgrsfjf50jd0lbps2dk3v47h0000gn/T/ipykernel_96994/2257459639.py:2: SettingWithCopyWarning:\n",
      "\n",
      "\n",
      "A value is trying to be set on a copy of a slice from a DataFrame.\n",
      "Try using .loc[row_indexer,col_indexer] = value instead\n",
      "\n",
      "See the caveats in the documentation: https://pandas.pydata.org/pandas-docs/stable/user_guide/indexing.html#returning-a-view-versus-a-copy\n",
      "\n"
     ]
    },
    {
     "data": {
      "text/html": [
       "<div>\n",
       "<style scoped>\n",
       "    .dataframe tbody tr th:only-of-type {\n",
       "        vertical-align: middle;\n",
       "    }\n",
       "\n",
       "    .dataframe tbody tr th {\n",
       "        vertical-align: top;\n",
       "    }\n",
       "\n",
       "    .dataframe thead th {\n",
       "        text-align: right;\n",
       "    }\n",
       "</style>\n",
       "<table border=\"1\" class=\"dataframe\">\n",
       "  <thead>\n",
       "    <tr style=\"text-align: right;\">\n",
       "      <th></th>\n",
       "      <th>year</th>\n",
       "      <th>DOSAGE_UNIT</th>\n",
       "      <th>DOSAGE_UNIT_NEW</th>\n",
       "      <th>Pills_per_millions</th>\n",
       "    </tr>\n",
       "  </thead>\n",
       "  <tbody>\n",
       "    <tr>\n",
       "      <th>0</th>\n",
       "      <td>2006</td>\n",
       "      <td>363620</td>\n",
       "      <td>363620.0</td>\n",
       "      <td>0.3636</td>\n",
       "    </tr>\n",
       "    <tr>\n",
       "      <th>1</th>\n",
       "      <td>2007</td>\n",
       "      <td>402940</td>\n",
       "      <td>402940.0</td>\n",
       "      <td>0.4029</td>\n",
       "    </tr>\n",
       "    <tr>\n",
       "      <th>2</th>\n",
       "      <td>2008</td>\n",
       "      <td>424590</td>\n",
       "      <td>424590.0</td>\n",
       "      <td>0.4246</td>\n",
       "    </tr>\n",
       "    <tr>\n",
       "      <th>3</th>\n",
       "      <td>2009</td>\n",
       "      <td>467230</td>\n",
       "      <td>467230.0</td>\n",
       "      <td>0.4672</td>\n",
       "    </tr>\n",
       "    <tr>\n",
       "      <th>4</th>\n",
       "      <td>2010</td>\n",
       "      <td>539280</td>\n",
       "      <td>539280.0</td>\n",
       "      <td>0.5393</td>\n",
       "    </tr>\n",
       "  </tbody>\n",
       "</table>\n",
       "</div>"
      ],
      "text/plain": [
       "   year DOSAGE_UNIT  DOSAGE_UNIT_NEW  Pills_per_millions\n",
       "0  2006      363620         363620.0              0.3636\n",
       "1  2007      402940         402940.0              0.4029\n",
       "2  2008      424590         424590.0              0.4246\n",
       "3  2009      467230         467230.0              0.4672\n",
       "4  2010      539280         539280.0              0.5393"
      ]
     },
     "execution_count": 338,
     "metadata": {},
     "output_type": "execute_result"
    }
   ],
   "source": [
    "#First convert the data type into int, and then convert unit into pills per millions\n",
    "annual_plot['DOSAGE_UNIT_NEW'] = annual_plot['DOSAGE_UNIT'].astype('str').str.extractall('(\\d+)').unstack().fillna('').sum(axis=1).astype(int)\n",
    "annual_plot['Pills_per_millions'] = (annual_plot['DOSAGE_UNIT_NEW'].astype(float) / 1000000).round(4)\n",
    "annual_plot.head()"
   ]
  },
  {
   "cell_type": "code",
   "execution_count": 339,
   "metadata": {},
   "outputs": [
    {
     "data": {
      "text/html": [
       "<div>\n",
       "<style scoped>\n",
       "    .dataframe tbody tr th:only-of-type {\n",
       "        vertical-align: middle;\n",
       "    }\n",
       "\n",
       "    .dataframe tbody tr th {\n",
       "        vertical-align: top;\n",
       "    }\n",
       "\n",
       "    .dataframe thead th {\n",
       "        text-align: right;\n",
       "    }\n",
       "</style>\n",
       "<table border=\"1\" class=\"dataframe\">\n",
       "  <thead>\n",
       "    <tr style=\"text-align: right;\">\n",
       "      <th></th>\n",
       "      <th>year</th>\n",
       "      <th>Pills_per_millions</th>\n",
       "    </tr>\n",
       "  </thead>\n",
       "  <tbody>\n",
       "    <tr>\n",
       "      <th>0</th>\n",
       "      <td>2006</td>\n",
       "      <td>111.330256</td>\n",
       "    </tr>\n",
       "    <tr>\n",
       "      <th>1</th>\n",
       "      <td>2007</td>\n",
       "      <td>5.165994</td>\n",
       "    </tr>\n",
       "    <tr>\n",
       "      <th>2</th>\n",
       "      <td>2008</td>\n",
       "      <td>6.502431</td>\n",
       "    </tr>\n",
       "    <tr>\n",
       "      <th>3</th>\n",
       "      <td>2009</td>\n",
       "      <td>205.550035</td>\n",
       "    </tr>\n",
       "    <tr>\n",
       "      <th>4</th>\n",
       "      <td>2010</td>\n",
       "      <td>37.976661</td>\n",
       "    </tr>\n",
       "  </tbody>\n",
       "</table>\n",
       "</div>"
      ],
      "text/plain": [
       "   year  Pills_per_millions\n",
       "0  2006          111.330256\n",
       "1  2007            5.165994\n",
       "2  2008            6.502431\n",
       "3  2009          205.550035\n",
       "4  2010           37.976661"
      ]
     },
     "execution_count": 339,
     "metadata": {},
     "output_type": "execute_result"
    }
   ],
   "source": [
    "#Change the data into two columns, where pills are grouped by years\n",
    "plotdf = annual_plot[['Pills_per_millions', 'year']].groupby('year', as_index=False).mean()\n",
    "plotdf.head()"
   ]
  },
  {
   "cell_type": "code",
   "execution_count": 349,
   "metadata": {},
   "outputs": [
    {
     "data": {
      "application/vnd.plotly.v1+json": {
       "config": {
        "plotlyServerURL": "https://plot.ly"
       },
       "data": [
        {
         "hovertemplate": "Year=%{x}<br>Pills per million=%{y}<extra></extra>",
         "legendgroup": "",
         "marker": {
          "color": "#636efa",
          "symbol": "circle"
         },
         "mode": "markers",
         "name": "",
         "orientation": "v",
         "showlegend": false,
         "type": "scatter",
         "x": [
          "2006",
          "2007",
          "2008",
          "2009",
          "2010",
          "2011",
          "2012",
          "2013",
          "2014",
          "year"
         ],
         "xaxis": "x",
         "y": [
          111.33025606992555,
          5.165993545248135,
          6.502431371911573,
          205.5500346766331,
          37.97666126829268,
          8.922225008108985,
          4.568960038860103,
          4.259550145867099,
          3.794044473257699,
          null
         ],
         "yaxis": "y"
        }
       ],
       "layout": {
        "legend": {
         "tracegroupgap": 0
        },
        "template": {
         "data": {
          "bar": [
           {
            "error_x": {
             "color": "#2a3f5f"
            },
            "error_y": {
             "color": "#2a3f5f"
            },
            "marker": {
             "line": {
              "color": "#E5ECF6",
              "width": 0.5
             },
             "pattern": {
              "fillmode": "overlay",
              "size": 10,
              "solidity": 0.2
             }
            },
            "type": "bar"
           }
          ],
          "barpolar": [
           {
            "marker": {
             "line": {
              "color": "#E5ECF6",
              "width": 0.5
             },
             "pattern": {
              "fillmode": "overlay",
              "size": 10,
              "solidity": 0.2
             }
            },
            "type": "barpolar"
           }
          ],
          "carpet": [
           {
            "aaxis": {
             "endlinecolor": "#2a3f5f",
             "gridcolor": "white",
             "linecolor": "white",
             "minorgridcolor": "white",
             "startlinecolor": "#2a3f5f"
            },
            "baxis": {
             "endlinecolor": "#2a3f5f",
             "gridcolor": "white",
             "linecolor": "white",
             "minorgridcolor": "white",
             "startlinecolor": "#2a3f5f"
            },
            "type": "carpet"
           }
          ],
          "choropleth": [
           {
            "colorbar": {
             "outlinewidth": 0,
             "ticks": ""
            },
            "type": "choropleth"
           }
          ],
          "contour": [
           {
            "colorbar": {
             "outlinewidth": 0,
             "ticks": ""
            },
            "colorscale": [
             [
              0,
              "#0d0887"
             ],
             [
              0.1111111111111111,
              "#46039f"
             ],
             [
              0.2222222222222222,
              "#7201a8"
             ],
             [
              0.3333333333333333,
              "#9c179e"
             ],
             [
              0.4444444444444444,
              "#bd3786"
             ],
             [
              0.5555555555555556,
              "#d8576b"
             ],
             [
              0.6666666666666666,
              "#ed7953"
             ],
             [
              0.7777777777777778,
              "#fb9f3a"
             ],
             [
              0.8888888888888888,
              "#fdca26"
             ],
             [
              1,
              "#f0f921"
             ]
            ],
            "type": "contour"
           }
          ],
          "contourcarpet": [
           {
            "colorbar": {
             "outlinewidth": 0,
             "ticks": ""
            },
            "type": "contourcarpet"
           }
          ],
          "heatmap": [
           {
            "colorbar": {
             "outlinewidth": 0,
             "ticks": ""
            },
            "colorscale": [
             [
              0,
              "#0d0887"
             ],
             [
              0.1111111111111111,
              "#46039f"
             ],
             [
              0.2222222222222222,
              "#7201a8"
             ],
             [
              0.3333333333333333,
              "#9c179e"
             ],
             [
              0.4444444444444444,
              "#bd3786"
             ],
             [
              0.5555555555555556,
              "#d8576b"
             ],
             [
              0.6666666666666666,
              "#ed7953"
             ],
             [
              0.7777777777777778,
              "#fb9f3a"
             ],
             [
              0.8888888888888888,
              "#fdca26"
             ],
             [
              1,
              "#f0f921"
             ]
            ],
            "type": "heatmap"
           }
          ],
          "heatmapgl": [
           {
            "colorbar": {
             "outlinewidth": 0,
             "ticks": ""
            },
            "colorscale": [
             [
              0,
              "#0d0887"
             ],
             [
              0.1111111111111111,
              "#46039f"
             ],
             [
              0.2222222222222222,
              "#7201a8"
             ],
             [
              0.3333333333333333,
              "#9c179e"
             ],
             [
              0.4444444444444444,
              "#bd3786"
             ],
             [
              0.5555555555555556,
              "#d8576b"
             ],
             [
              0.6666666666666666,
              "#ed7953"
             ],
             [
              0.7777777777777778,
              "#fb9f3a"
             ],
             [
              0.8888888888888888,
              "#fdca26"
             ],
             [
              1,
              "#f0f921"
             ]
            ],
            "type": "heatmapgl"
           }
          ],
          "histogram": [
           {
            "marker": {
             "pattern": {
              "fillmode": "overlay",
              "size": 10,
              "solidity": 0.2
             }
            },
            "type": "histogram"
           }
          ],
          "histogram2d": [
           {
            "colorbar": {
             "outlinewidth": 0,
             "ticks": ""
            },
            "colorscale": [
             [
              0,
              "#0d0887"
             ],
             [
              0.1111111111111111,
              "#46039f"
             ],
             [
              0.2222222222222222,
              "#7201a8"
             ],
             [
              0.3333333333333333,
              "#9c179e"
             ],
             [
              0.4444444444444444,
              "#bd3786"
             ],
             [
              0.5555555555555556,
              "#d8576b"
             ],
             [
              0.6666666666666666,
              "#ed7953"
             ],
             [
              0.7777777777777778,
              "#fb9f3a"
             ],
             [
              0.8888888888888888,
              "#fdca26"
             ],
             [
              1,
              "#f0f921"
             ]
            ],
            "type": "histogram2d"
           }
          ],
          "histogram2dcontour": [
           {
            "colorbar": {
             "outlinewidth": 0,
             "ticks": ""
            },
            "colorscale": [
             [
              0,
              "#0d0887"
             ],
             [
              0.1111111111111111,
              "#46039f"
             ],
             [
              0.2222222222222222,
              "#7201a8"
             ],
             [
              0.3333333333333333,
              "#9c179e"
             ],
             [
              0.4444444444444444,
              "#bd3786"
             ],
             [
              0.5555555555555556,
              "#d8576b"
             ],
             [
              0.6666666666666666,
              "#ed7953"
             ],
             [
              0.7777777777777778,
              "#fb9f3a"
             ],
             [
              0.8888888888888888,
              "#fdca26"
             ],
             [
              1,
              "#f0f921"
             ]
            ],
            "type": "histogram2dcontour"
           }
          ],
          "mesh3d": [
           {
            "colorbar": {
             "outlinewidth": 0,
             "ticks": ""
            },
            "type": "mesh3d"
           }
          ],
          "parcoords": [
           {
            "line": {
             "colorbar": {
              "outlinewidth": 0,
              "ticks": ""
             }
            },
            "type": "parcoords"
           }
          ],
          "pie": [
           {
            "automargin": true,
            "type": "pie"
           }
          ],
          "scatter": [
           {
            "fillpattern": {
             "fillmode": "overlay",
             "size": 10,
             "solidity": 0.2
            },
            "type": "scatter"
           }
          ],
          "scatter3d": [
           {
            "line": {
             "colorbar": {
              "outlinewidth": 0,
              "ticks": ""
             }
            },
            "marker": {
             "colorbar": {
              "outlinewidth": 0,
              "ticks": ""
             }
            },
            "type": "scatter3d"
           }
          ],
          "scattercarpet": [
           {
            "marker": {
             "colorbar": {
              "outlinewidth": 0,
              "ticks": ""
             }
            },
            "type": "scattercarpet"
           }
          ],
          "scattergeo": [
           {
            "marker": {
             "colorbar": {
              "outlinewidth": 0,
              "ticks": ""
             }
            },
            "type": "scattergeo"
           }
          ],
          "scattergl": [
           {
            "marker": {
             "colorbar": {
              "outlinewidth": 0,
              "ticks": ""
             }
            },
            "type": "scattergl"
           }
          ],
          "scattermapbox": [
           {
            "marker": {
             "colorbar": {
              "outlinewidth": 0,
              "ticks": ""
             }
            },
            "type": "scattermapbox"
           }
          ],
          "scatterpolar": [
           {
            "marker": {
             "colorbar": {
              "outlinewidth": 0,
              "ticks": ""
             }
            },
            "type": "scatterpolar"
           }
          ],
          "scatterpolargl": [
           {
            "marker": {
             "colorbar": {
              "outlinewidth": 0,
              "ticks": ""
             }
            },
            "type": "scatterpolargl"
           }
          ],
          "scatterternary": [
           {
            "marker": {
             "colorbar": {
              "outlinewidth": 0,
              "ticks": ""
             }
            },
            "type": "scatterternary"
           }
          ],
          "surface": [
           {
            "colorbar": {
             "outlinewidth": 0,
             "ticks": ""
            },
            "colorscale": [
             [
              0,
              "#0d0887"
             ],
             [
              0.1111111111111111,
              "#46039f"
             ],
             [
              0.2222222222222222,
              "#7201a8"
             ],
             [
              0.3333333333333333,
              "#9c179e"
             ],
             [
              0.4444444444444444,
              "#bd3786"
             ],
             [
              0.5555555555555556,
              "#d8576b"
             ],
             [
              0.6666666666666666,
              "#ed7953"
             ],
             [
              0.7777777777777778,
              "#fb9f3a"
             ],
             [
              0.8888888888888888,
              "#fdca26"
             ],
             [
              1,
              "#f0f921"
             ]
            ],
            "type": "surface"
           }
          ],
          "table": [
           {
            "cells": {
             "fill": {
              "color": "#EBF0F8"
             },
             "line": {
              "color": "white"
             }
            },
            "header": {
             "fill": {
              "color": "#C8D4E3"
             },
             "line": {
              "color": "white"
             }
            },
            "type": "table"
           }
          ]
         },
         "layout": {
          "annotationdefaults": {
           "arrowcolor": "#2a3f5f",
           "arrowhead": 0,
           "arrowwidth": 1
          },
          "autotypenumbers": "strict",
          "coloraxis": {
           "colorbar": {
            "outlinewidth": 0,
            "ticks": ""
           }
          },
          "colorscale": {
           "diverging": [
            [
             0,
             "#8e0152"
            ],
            [
             0.1,
             "#c51b7d"
            ],
            [
             0.2,
             "#de77ae"
            ],
            [
             0.3,
             "#f1b6da"
            ],
            [
             0.4,
             "#fde0ef"
            ],
            [
             0.5,
             "#f7f7f7"
            ],
            [
             0.6,
             "#e6f5d0"
            ],
            [
             0.7,
             "#b8e186"
            ],
            [
             0.8,
             "#7fbc41"
            ],
            [
             0.9,
             "#4d9221"
            ],
            [
             1,
             "#276419"
            ]
           ],
           "sequential": [
            [
             0,
             "#0d0887"
            ],
            [
             0.1111111111111111,
             "#46039f"
            ],
            [
             0.2222222222222222,
             "#7201a8"
            ],
            [
             0.3333333333333333,
             "#9c179e"
            ],
            [
             0.4444444444444444,
             "#bd3786"
            ],
            [
             0.5555555555555556,
             "#d8576b"
            ],
            [
             0.6666666666666666,
             "#ed7953"
            ],
            [
             0.7777777777777778,
             "#fb9f3a"
            ],
            [
             0.8888888888888888,
             "#fdca26"
            ],
            [
             1,
             "#f0f921"
            ]
           ],
           "sequentialminus": [
            [
             0,
             "#0d0887"
            ],
            [
             0.1111111111111111,
             "#46039f"
            ],
            [
             0.2222222222222222,
             "#7201a8"
            ],
            [
             0.3333333333333333,
             "#9c179e"
            ],
            [
             0.4444444444444444,
             "#bd3786"
            ],
            [
             0.5555555555555556,
             "#d8576b"
            ],
            [
             0.6666666666666666,
             "#ed7953"
            ],
            [
             0.7777777777777778,
             "#fb9f3a"
            ],
            [
             0.8888888888888888,
             "#fdca26"
            ],
            [
             1,
             "#f0f921"
            ]
           ]
          },
          "colorway": [
           "#636efa",
           "#EF553B",
           "#00cc96",
           "#ab63fa",
           "#FFA15A",
           "#19d3f3",
           "#FF6692",
           "#B6E880",
           "#FF97FF",
           "#FECB52"
          ],
          "font": {
           "color": "#2a3f5f"
          },
          "geo": {
           "bgcolor": "white",
           "lakecolor": "white",
           "landcolor": "#E5ECF6",
           "showlakes": true,
           "showland": true,
           "subunitcolor": "white"
          },
          "hoverlabel": {
           "align": "left"
          },
          "hovermode": "closest",
          "mapbox": {
           "style": "light"
          },
          "paper_bgcolor": "white",
          "plot_bgcolor": "#E5ECF6",
          "polar": {
           "angularaxis": {
            "gridcolor": "white",
            "linecolor": "white",
            "ticks": ""
           },
           "bgcolor": "#E5ECF6",
           "radialaxis": {
            "gridcolor": "white",
            "linecolor": "white",
            "ticks": ""
           }
          },
          "scene": {
           "xaxis": {
            "backgroundcolor": "#E5ECF6",
            "gridcolor": "white",
            "gridwidth": 2,
            "linecolor": "white",
            "showbackground": true,
            "ticks": "",
            "zerolinecolor": "white"
           },
           "yaxis": {
            "backgroundcolor": "#E5ECF6",
            "gridcolor": "white",
            "gridwidth": 2,
            "linecolor": "white",
            "showbackground": true,
            "ticks": "",
            "zerolinecolor": "white"
           },
           "zaxis": {
            "backgroundcolor": "#E5ECF6",
            "gridcolor": "white",
            "gridwidth": 2,
            "linecolor": "white",
            "showbackground": true,
            "ticks": "",
            "zerolinecolor": "white"
           }
          },
          "shapedefaults": {
           "line": {
            "color": "#2a3f5f"
           }
          },
          "ternary": {
           "aaxis": {
            "gridcolor": "white",
            "linecolor": "white",
            "ticks": ""
           },
           "baxis": {
            "gridcolor": "white",
            "linecolor": "white",
            "ticks": ""
           },
           "bgcolor": "#E5ECF6",
           "caxis": {
            "gridcolor": "white",
            "linecolor": "white",
            "ticks": ""
           }
          },
          "title": {
           "x": 0.05
          },
          "xaxis": {
           "automargin": true,
           "gridcolor": "white",
           "linecolor": "white",
           "ticks": "",
           "title": {
            "standoff": 15
           },
           "zerolinecolor": "white",
           "zerolinewidth": 2
          },
          "yaxis": {
           "automargin": true,
           "gridcolor": "white",
           "linecolor": "white",
           "ticks": "",
           "title": {
            "standoff": 15
           },
           "zerolinecolor": "white",
           "zerolinewidth": 2
          }
         }
        },
        "title": {
         "text": "Average number of opiod pills per year"
        },
        "xaxis": {
         "anchor": "y",
         "domain": [
          0,
          1
         ],
         "title": {
          "text": "Year"
         }
        },
        "yaxis": {
         "anchor": "x",
         "domain": [
          0,
          1
         ],
         "title": {
          "text": "Pills per million"
         }
        }
       }
      }
     },
     "metadata": {},
     "output_type": "display_data"
    }
   ],
   "source": [
    "fig1 = px.scatter(x = plotdf.year, y = plotdf.Pills_per_millions, title = 'Average number of opiod pills per year', labels = {'x': 'Year', 'y': 'Pills per million'})\n",
    "fig1.show()\n",
    "fig1.write_html(\"Q4.html\")"
   ]
  },
  {
   "cell_type": "code",
   "execution_count": null,
   "metadata": {},
   "outputs": [],
   "source": [
    "#The file is too large to be published. However, the link to the html file is attached, along with a link to a png output\n",
    "https://github.com/hliu154/dshw2.io/blob/main/Q4.html\n",
    "https://github.com/hliu154/dshw2.io/blob/main/scatter.png"
   ]
  }
 ],
 "metadata": {
  "kernelspec": {
   "display_name": "Python 3",
   "language": "python",
   "name": "python3"
  },
  "language_info": {
   "codemirror_mode": {
    "name": "ipython",
    "version": 3
   },
   "file_extension": ".py",
   "mimetype": "text/x-python",
   "name": "python",
   "nbconvert_exporter": "python",
   "pygments_lexer": "ipython3",
   "version": "3.8.9"
  },
  "orig_nbformat": 4,
  "vscode": {
   "interpreter": {
    "hash": "31f2aee4e71d21fbe5cf8b01ff0e069b9275f58929596ceb00d14d90e3e16cd6"
   }
  }
 },
 "nbformat": 4,
 "nbformat_minor": 2
}
